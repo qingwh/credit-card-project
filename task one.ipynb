{
 "cells": [
  {
   "cell_type": "code",
   "execution_count": 1,
   "metadata": {},
   "outputs": [
    {
     "data": {
      "text/plain": [
       "5.0"
      ]
     },
     "execution_count": 1,
     "metadata": {},
     "output_type": "execute_result"
    }
   ],
   "source": [
    "import math\n",
    "math.sqrt(25)"
   ]
  },
  {
   "cell_type": "code",
   "execution_count": 2,
   "metadata": {},
   "outputs": [
    {
     "data": {
      "text/plain": [
       "3.141592653589793"
      ]
     },
     "execution_count": 2,
     "metadata": {},
     "output_type": "execute_result"
    }
   ],
   "source": [
    "math.pi"
   ]
  },
  {
   "cell_type": "code",
   "execution_count": 16,
   "metadata": {},
   "outputs": [
    {
     "data": {
      "text/plain": [
       "5.0"
      ]
     },
     "execution_count": 16,
     "metadata": {},
     "output_type": "execute_result"
    }
   ],
   "source": [
    "import math as mt\n",
    "mt.sqrt(25)"
   ]
  },
  {
   "cell_type": "code",
   "execution_count": 11,
   "metadata": {},
   "outputs": [
    {
     "data": {
      "text/plain": [
       "array([[0.92220974, 0.78381649, 0.53173071, 0.76498578, 0.04791913],\n",
       "       [0.99824796, 0.69840511, 0.66268271, 0.40392036, 0.69812542],\n",
       "       [0.92698685, 0.82098481, 0.8975653 , 0.44877653, 0.41046257],\n",
       "       [0.03404446, 0.21861039, 0.5001313 , 0.27533863, 0.78221742],\n",
       "       [0.04291643, 0.48427809, 0.12636973, 0.25527852, 0.70927654]])"
      ]
     },
     "execution_count": 11,
     "metadata": {},
     "output_type": "execute_result"
    }
   ],
   "source": [
    "from numpy import random\n",
    "import numpy as np\n",
    "# uniform random numbers in [0,1]\n",
    "dataOne = random.rand(5,5)\n",
    "dataOne"
   ]
  },
  {
   "cell_type": "code",
   "execution_count": 12,
   "metadata": {},
   "outputs": [
    {
     "data": {
      "text/plain": [
       "0.5378112384873337"
      ]
     },
     "execution_count": 12,
     "metadata": {},
     "output_type": "execute_result"
    }
   ],
   "source": [
    "np.mean(dataOne)"
   ]
  },
  {
   "cell_type": "code",
   "execution_count": 13,
   "metadata": {},
   "outputs": [
    {
     "data": {
      "text/plain": [
       "0.29625379647657213"
      ]
     },
     "execution_count": 13,
     "metadata": {},
     "output_type": "execute_result"
    }
   ],
   "source": [
    "np.std(dataOne)"
   ]
  },
  {
   "cell_type": "code",
   "execution_count": 14,
   "metadata": {},
   "outputs": [
    {
     "data": {
      "text/plain": [
       "(array([4, 1, 2, 2, 3, 1, 3, 4, 2, 3], dtype=int64),\n",
       " array([0.03404446, 0.13046481, 0.22688516, 0.32330551, 0.41972586,\n",
       "        0.51614621, 0.61256656, 0.70898691, 0.80540726, 0.90182761,\n",
       "        0.99824796]))"
      ]
     },
     "execution_count": 14,
     "metadata": {},
     "output_type": "execute_result"
    }
   ],
   "source": [
    "np.histogram(dataOne)"
   ]
  },
  {
   "cell_type": "code",
   "execution_count": 19,
   "metadata": {},
   "outputs": [
    {
     "data": {
      "text/plain": [
       "100"
      ]
     },
     "execution_count": 19,
     "metadata": {},
     "output_type": "execute_result"
    }
   ],
   "source": [
    "np.square(10)"
   ]
  },
  {
   "cell_type": "code",
   "execution_count": 1,
   "metadata": {},
   "outputs": [
    {
     "name": "stdout",
     "output_type": "stream",
     "text": [
      "I Love data Science\n"
     ]
    }
   ],
   "source": [
    "print('I Love data Science')"
   ]
  },
  {
   "cell_type": "code",
   "execution_count": 2,
   "metadata": {},
   "outputs": [
    {
     "name": "stdout",
     "output_type": "stream",
     "text": [
      "I Love data Science\n",
      "25\n"
     ]
    }
   ],
   "source": [
    "variableName = 25\n",
    "variableName1 = 'I Love data Science'\n",
    "print(variableName1)\n",
    "print(variableName)"
   ]
  },
  {
   "cell_type": "code",
   "execution_count": 3,
   "metadata": {},
   "outputs": [
    {
     "data": {
      "text/plain": [
       "int"
      ]
     },
     "execution_count": 3,
     "metadata": {},
     "output_type": "execute_result"
    }
   ],
   "source": [
    "type(variableName)"
   ]
  },
  {
   "cell_type": "code",
   "execution_count": 1,
   "metadata": {},
   "outputs": [
    {
     "data": {
      "text/plain": [
       "float"
      ]
     },
     "execution_count": 1,
     "metadata": {},
     "output_type": "execute_result"
    }
   ],
   "source": [
    "variableName = 25.0\n",
    "type(variableName)"
   ]
  },
  {
   "cell_type": "code",
   "execution_count": 3,
   "metadata": {},
   "outputs": [
    {
     "ename": "TypeError",
     "evalue": "unsupported operand type(s) for +: 'int' and 'str'",
     "output_type": "error",
     "traceback": [
      "\u001b[1;31m---------------------------------------------------------------------------\u001b[0m",
      "\u001b[1;31mTypeError\u001b[0m                                 Traceback (most recent call last)",
      "\u001b[1;32m<ipython-input-3-8f176fe74921>\u001b[0m in \u001b[0;36m<module>\u001b[1;34m()\u001b[0m\n\u001b[0;32m      1\u001b[0m \u001b[0mvarOne\u001b[0m \u001b[1;33m=\u001b[0m \u001b[1;36m25\u001b[0m\u001b[1;33m\u001b[0m\u001b[0m\n\u001b[0;32m      2\u001b[0m \u001b[0mvarTwo\u001b[0m \u001b[1;33m=\u001b[0m \u001b[1;34m'Hello'\u001b[0m\u001b[1;33m\u001b[0m\u001b[0m\n\u001b[1;32m----> 3\u001b[1;33m \u001b[0mvarThree\u001b[0m \u001b[1;33m=\u001b[0m \u001b[0mvarOne\u001b[0m \u001b[1;33m+\u001b[0m \u001b[0mvarTwo\u001b[0m\u001b[1;33m\u001b[0m\u001b[0m\n\u001b[0m\u001b[0;32m      4\u001b[0m \u001b[0mprint\u001b[0m\u001b[1;33m(\u001b[0m\u001b[0mvarThree\u001b[0m\u001b[1;33m)\u001b[0m\u001b[1;33m\u001b[0m\u001b[0m\n",
      "\u001b[1;31mTypeError\u001b[0m: unsupported operand type(s) for +: 'int' and 'str'"
     ]
    }
   ],
   "source": [
    "varOne = 25\n",
    "varTwo = 'Hello'\n",
    "varThree = varOne + varTwo\n",
    "print(varThree)"
   ]
  },
  {
   "cell_type": "code",
   "execution_count": 2,
   "metadata": {},
   "outputs": [
    {
     "name": "stdout",
     "output_type": "stream",
     "text": [
      "50.0\n"
     ]
    }
   ],
   "source": [
    "varOne = 25\n",
    "varTwo = 25.0\n",
    "varThree = varOne + varTwo\n",
    "print(varThree)"
   ]
  },
  {
   "cell_type": "code",
   "execution_count": 4,
   "metadata": {},
   "outputs": [
    {
     "name": "stdout",
     "output_type": "stream",
     "text": [
      "25Hello\n"
     ]
    }
   ],
   "source": [
    "varOne = \"25\"\n",
    "varTwo = 'Hello'\n",
    "varThree = varOne + varTwo\n",
    "print(varThree)"
   ]
  },
  {
   "cell_type": "code",
   "execution_count": 6,
   "metadata": {},
   "outputs": [
    {
     "name": "stdout",
     "output_type": "stream",
     "text": [
      "[2, 3]\n",
      "[1, 2]\n"
     ]
    }
   ],
   "source": [
    "listName = [ ]\n",
    "listOne = [1,2,3,4]\n",
    "print(listOne[1:3])\n",
    "print(listOne[0:2])"
   ]
  },
  {
   "cell_type": "code",
   "execution_count": 7,
   "metadata": {},
   "outputs": [
    {
     "data": {
      "text/plain": [
       "4098"
      ]
     },
     "execution_count": 7,
     "metadata": {},
     "output_type": "execute_result"
    }
   ],
   "source": [
    "tel = {'jack': 4098, 'sape': 4139}\n",
    "tel['jack']"
   ]
  },
  {
   "cell_type": "code",
   "execution_count": 18,
   "metadata": {},
   "outputs": [
    {
     "name": "stdout",
     "output_type": "stream",
     "text": [
      "{1: 1, 3: 9, 5: 25}\n"
     ]
    }
   ],
   "source": [
    "squares = {1:1, 2:4, 3:9, 4:16, 5:25} \n",
    "key=(1,3,5)\n",
    "d1 = {k: squares[k] for k in key}\n",
    "print(d1)"
   ]
  },
  {
   "cell_type": "code",
   "execution_count": 21,
   "metadata": {},
   "outputs": [
    {
     "name": "stdout",
     "output_type": "stream",
     "text": [
      "{1: 2, 5: 6}\n"
     ]
    }
   ],
   "source": [
    "d = {1:2, 3:4, 5:6, 7:8}\n",
    "l = (1,5)\n",
    "d2={k:d[k] for k in l}\n",
    "print(d2)"
   ]
  },
  {
   "cell_type": "code",
   "execution_count": 25,
   "metadata": {},
   "outputs": [
    {
     "data": {
      "text/plain": [
       "5.0"
      ]
     },
     "execution_count": 25,
     "metadata": {},
     "output_type": "execute_result"
    }
   ],
   "source": [
    "import math as mt\n",
    "mt.sqrt(squares[1])\n",
    "mt.sqrt(squares[4])\n",
    "mt.sqrt(squares[5])"
   ]
  },
  {
   "cell_type": "code",
   "execution_count": 26,
   "metadata": {},
   "outputs": [
    {
     "data": {
      "text/plain": [
       "4.0"
      ]
     },
     "execution_count": 26,
     "metadata": {},
     "output_type": "execute_result"
    }
   ],
   "source": [
    "mt.sqrt(squares[4])"
   ]
  },
  {
   "cell_type": "code",
   "execution_count": 27,
   "metadata": {},
   "outputs": [
    {
     "data": {
      "text/plain": [
       "1.0"
      ]
     },
     "execution_count": 27,
     "metadata": {},
     "output_type": "execute_result"
    }
   ],
   "source": [
    "mt.sqrt(squares[1])"
   ]
  },
  {
   "cell_type": "code",
   "execution_count": 28,
   "metadata": {},
   "outputs": [
    {
     "data": {
      "text/plain": [
       "2.718281828459045"
      ]
     },
     "execution_count": 28,
     "metadata": {},
     "output_type": "execute_result"
    }
   ],
   "source": [
    "mt.exp(squares[1])"
   ]
  },
  {
   "cell_type": "code",
   "execution_count": 29,
   "metadata": {},
   "outputs": [
    {
     "data": {
      "text/plain": [
       "8103.083927575384"
      ]
     },
     "execution_count": 29,
     "metadata": {},
     "output_type": "execute_result"
    }
   ],
   "source": [
    "mt.exp(squares[3])"
   ]
  },
  {
   "cell_type": "code",
   "execution_count": 30,
   "metadata": {},
   "outputs": [
    {
     "data": {
      "text/plain": [
       "72004899337.38588"
      ]
     },
     "execution_count": 30,
     "metadata": {},
     "output_type": "execute_result"
    }
   ],
   "source": [
    "mt.exp(squares[5])"
   ]
  },
  {
   "cell_type": "code",
   "execution_count": 31,
   "metadata": {},
   "outputs": [
    {
     "data": {
      "text/plain": [
       "0.0"
      ]
     },
     "execution_count": 31,
     "metadata": {},
     "output_type": "execute_result"
    }
   ],
   "source": [
    "mt.log(squares[1])"
   ]
  },
  {
   "cell_type": "code",
   "execution_count": 32,
   "metadata": {},
   "outputs": [
    {
     "data": {
      "text/plain": [
       "1.3862943611198906"
      ]
     },
     "execution_count": 32,
     "metadata": {},
     "output_type": "execute_result"
    }
   ],
   "source": [
    "mt.log(squares[2])"
   ]
  },
  {
   "cell_type": "code",
   "execution_count": 33,
   "metadata": {},
   "outputs": [
    {
     "data": {
      "text/plain": [
       "3.2188758248682006"
      ]
     },
     "execution_count": 33,
     "metadata": {},
     "output_type": "execute_result"
    }
   ],
   "source": [
    "mt.log(squares[5])"
   ]
  },
  {
   "cell_type": "code",
   "execution_count": 37,
   "metadata": {},
   "outputs": [
    {
     "name": "stdout",
     "output_type": "stream",
     "text": [
      "{0: 0, 1: 1, 2: 4, 3: 9, 4: 16, 5: 25}\n"
     ]
    }
   ],
   "source": [
    "squares = {x: x*x for x in range(6)}\n",
    "print(squares)"
   ]
  },
  {
   "cell_type": "code",
   "execution_count": 38,
   "metadata": {},
   "outputs": [
    {
     "name": "stdout",
     "output_type": "stream",
     "text": [
      "{1: 0.0, 2: 1.3862943611198906, 3: 2.1972245773362196, 4: 2.772588722239781, 5: 3.2188758248682006}\n"
     ]
    }
   ],
   "source": [
    "squares = {1:1, 2:4, 3:9, 4:16, 5:25} \n",
    "key=(1,2,3,4,5)\n",
    "d3 = {k: mt.log(squares[k]) for k in key}\n",
    "print(d3)"
   ]
  },
  {
   "cell_type": "markdown",
   "metadata": {},
   "source": [
    "with open(r'C:\\Users\\Qing\\Downloads\\baseball.csv','r') as open_file:\n",
    "    print('baseball.csv content:\\n' +open_file.read())\n",
    "\n",
    "    #In the beginning I received the following error.\n",
    "    #SyntaxError: (unicode error) 'unicodeescape' codec can't decode bytes in position 2-3:\n",
    "    #After that, I searched google then I find the solution. I added r before the location of the file,which prevent \\ \n",
    "    #stand for escape and it worked well."
   ]
  },
  {
   "cell_type": "markdown",
   "metadata": {},
   "source": [
    "with open(r'C:\\Users\\Qing\\Downloads\\baseball.csv','r') as open_file:\n",
    "    for observation in open_file:\n",
    "        print ('Reading Data:'+ observation)"
   ]
  },
  {
   "cell_type": "code",
   "execution_count": 28,
   "metadata": {},
   "outputs": [
    {
     "name": "stdout",
     "output_type": "stream",
     "text": [
      "Reading Line:0Content：\"Name\",\"Team\",\"Position\",\"Height\",\"Weight\",\"Age\",\"PosCategory\"\n",
      "\n",
      "Reading Line:2Content：\"Paul_Bako\",\"BAL\",\"Catcher\",74,215,34.69,\"Catcher\"\n",
      "\n",
      "Reading Line:4Content：\"Kevin_Millar\",\"BAL\",\"First_Baseman\",72,210,35.43,\"Infielder\"\n",
      "\n",
      "Reading Line:6Content：\"Brian_Roberts\",\"BAL\",\"Second_Baseman\",69,176,29.39,\"Infielder\"\n",
      "\n",
      "Reading Line:8Content：\"Melvin_Mora\",\"BAL\",\"Third_Baseman\",71,200,35.07,\"Infielder\"\n",
      "\n",
      "Reading Line:10Content：\"Adam_Stern\",\"BAL\",\"Outfielder\",71,180,27.05,\"Outfielder\"\n",
      "\n",
      "Reading Line:12Content：\"Freddie_Bynum\",\"BAL\",\"Outfielder\",73,180,26.96,\"Outfielder\"\n",
      "\n",
      "Reading Line:14Content：\"Brandon_Fahey\",\"BAL\",\"Outfielder\",74,160,26.11,\"Outfielder\"\n",
      "\n",
      "Reading Line:16Content：\"Jay_Payton\",\"BAL\",\"Outfielder\",70,185,34.27,\"Outfielder\"\n",
      "\n",
      "Reading Line:18Content：\"Hayden_Penn\",\"BAL\",\"Starting_Pitcher\",75,185,22.38,\"Pitcher\"\n",
      "\n",
      "Reading Line:20Content：\"Daniel_Cabrera\",\"BAL\",\"Starting_Pitcher\",79,230,25.76,\"Pitcher\"\n",
      "\n",
      "Reading Line:22Content：\"Jaret_Wright\",\"BAL\",\"Starting_Pitcher\",74,230,31.17,\"Pitcher\"\n",
      "\n",
      "Reading Line:24Content：\"Scott_Williamson\",\"BAL\",\"Relief_Pitcher\",72,180,31.03,\"Pitcher\"\n",
      "\n",
      "Reading Line:26Content：\"Danys_Baez\",\"BAL\",\"Relief_Pitcher\",75,225,29.47,\"Pitcher\"\n",
      "\n",
      "Reading Line:28Content：\"Jamie_Walker\",\"BAL\",\"Relief_Pitcher\",74,195,35.67,\"Pitcher\"\n",
      "\n",
      "Reading Line:30Content：\"Kurt_Birkins\",\"BAL\",\"Relief_Pitcher\",74,188,26.55,\"Pitcher\"\n",
      "\n",
      "Reading Line:32Content：\"Sendy_Rleal\",\"BAL\",\"Relief_Pitcher\",73,180,26.69,\"Pitcher\"\n",
      "\n",
      "Reading Line:34Content：\"Jeremy_Guthrie\",\"BAL\",\"Relief_Pitcher\",73,200,27.9,\"Pitcher\"\n",
      "\n",
      "Reading Line:36Content：\"Toby_Hall\",\"CWS\",\"Catcher\",75,240,31.36,\"Catcher\"\n",
      "\n",
      "Reading Line:38Content：\"Tadahito_Iguchi\",\"CWS\",\"Second_Baseman\",69,185,32.24,\"Infielder\"\n",
      "\n",
      "Reading Line:40Content：\"Alex_Cintron\",\"CWS\",\"Shortstop\",74,199,28.2,\"Infielder\"\n",
      "\n",
      "Reading Line:42Content：\"Josh_Fields\",\"CWS\",\"Third_Baseman\",73,215,24.21,\"Infielder\"\n",
      "\n",
      "Reading Line:44Content：\"Brian_N._Anderson\",\"CWS\",\"Outfielder\",74,205,24.97,\"Outfielder\"\n",
      "\n",
      "Reading Line:46Content：\"Pablo_Ozuna\",\"CWS\",\"Outfielder\",70,186,32.51,\"Outfielder\"\n",
      "\n",
      "Reading Line:48Content：\"Jermaine_Dye\",\"CWS\",\"Outfielder\",77,220,33.09,\"Outfielder\"\n",
      "\n",
      "Reading Line:50Content：\"Rob_Mackowiak\",\"CWS\",\"Outfielder\",70,195,30.69,\"Outfielder\"\n",
      "\n",
      "Reading Line:52Content：\"Heath_Phillips\",\"CWS\",\"Starting_Pitcher\",75,200,24.94,\"Pitcher\"\n",
      "\n",
      "Reading Line:54Content：\"Jose_Contreras\",\"CWS\",\"Starting_Pitcher\",76,224,35.23,\"Pitcher\"\n",
      "\n",
      "Reading Line:56Content：\"Javier_Vazquez\",\"CWS\",\"Starting_Pitcher\",74,205,30.6,\"Pitcher\"\n",
      "\n",
      "Reading Line:58Content：\"Mike_MacDougal\",\"CWS\",\"Relief_Pitcher\",76,195,29.99,\"Pitcher\"\n",
      "\n",
      "Reading Line:60Content：\"Andrew_Sisco\",\"CWS\",\"Relief_Pitcher\",81,260,24.13,\"Pitcher\"\n",
      "\n",
      "Reading Line:62Content：\"Bobby_Jenks\",\"CWS\",\"Relief_Pitcher\",75,270,25.96,\"Pitcher\"\n",
      "\n",
      "Reading Line:64Content：\"Sean_Tracey\",\"CWS\",\"Relief_Pitcher\",75,210,26.29,\"Pitcher\"\n",
      "\n",
      "Reading Line:66Content：\"Jose_Molina\",\"ANA\",\"Catcher\",74,220,31.74,\"Catcher\"\n",
      "\n",
      "Reading Line:68Content：\"Mike_Napoli\",\"ANA\",\"Catcher\",72,205,25.33,\"Catcher\"\n",
      "\n",
      "Reading Line:70Content：\"Kendry_Morales\",\"ANA\",\"First_Baseman\",73,220,23.7,\"Infielder\"\n",
      "\n",
      "Reading Line:72Content：\"Robb_Quinlan\",\"ANA\",\"First_Baseman\",73,200,29.95,\"Infielder\"\n",
      "\n",
      "Reading Line:74Content：\"Orlando_Cabrera\",\"ANA\",\"Shortstop\",70,190,32.33,\"Infielder\"\n",
      "\n",
      "Reading Line:76Content：\"Dallas_McPherson\",\"ANA\",\"Third_Baseman\",76,230,26.6,\"Infielder\"\n",
      "\n",
      "Reading Line:78Content：\"Reggie_Willits\",\"ANA\",\"Outfielder\",71,185,25.75,\"Outfielder\"\n",
      "\n",
      "Reading Line:80Content：\"Terry_Evans\",\"ANA\",\"Outfielder\",75,200,25.11,\"Outfielder\"\n",
      "\n",
      "Reading Line:82Content：\"Garret_Anderson\",\"ANA\",\"Outfielder\",75,225,34.67,\"Outfielder\"\n",
      "\n",
      "Reading Line:84Content：\"Chone_Figgins\",\"ANA\",\"Outfielder\",68,160,29.1,\"Outfielder\"\n",
      "\n",
      "Reading Line:86Content：\"John_Lackey\",\"ANA\",\"Starting_Pitcher\",78,235,28.35,\"Pitcher\"\n",
      "\n",
      "Reading Line:88Content：\"Kelvim_Escobar\",\"ANA\",\"Starting_Pitcher\",73,210,30.89,\"Pitcher\"\n",
      "\n",
      "Reading Line:90Content：\"Ervin_Santana\",\"ANA\",\"Starting_Pitcher\",74,160,24.14,\"Pitcher\"\n",
      "\n",
      "Reading Line:92Content：\"Jered_Weaver\",\"ANA\",\"Starting_Pitcher\",79,205,24.41,\"Pitcher\"\n",
      "\n",
      "Reading Line:94Content：\"Phil_Seibel\",\"ANA\",\"Relief_Pitcher\",73,195,28.09,\"Pitcher\"\n",
      "\n",
      "Reading Line:96Content：\"Darren_Oliver\",\"ANA\",\"Relief_Pitcher\",74,220,36.4,\"Pitcher\"\n",
      "\n",
      "Reading Line:98Content：\"Scot_Shields\",\"ANA\",\"Relief_Pitcher\",73,170,31.61,\"Pitcher\"\n",
      "\n",
      "Reading Line:100Content：\"Greg_Jones\",\"ANA\",\"Relief_Pitcher\",74,195,30.29,\"Pitcher\"\n",
      "\n",
      "Reading Line:102Content：\"Jason_Varitek\",\"BOS\",\"Catcher\",74,230,34.89,\"Catcher\"\n",
      "\n",
      "Reading Line:104Content：\"Kevin_Youkilis\",\"BOS\",\"First_Baseman\",73,220,27.96,\"Infielder\"\n",
      "\n",
      "Reading Line:106Content：\"Alex_Cora\",\"BOS\",\"Shortstop\",72,180,31.37,\"Infielder\"\n",
      "\n",
      "Reading Line:108Content：\"Mike_Lowell\",\"BOS\",\"Third_Baseman\",75,210,33.01,\"Infielder\"\n",
      "\n",
      "Reading Line:110Content：\"J.D._Drew\",\"BOS\",\"Outfielder\",73,200,31.28,\"Outfielder\"\n",
      "\n",
      "Reading Line:112Content：\"Brandon_Moss\",\"BOS\",\"Outfielder\",72,180,23.46,\"Outfielder\"\n",
      "\n",
      "Reading Line:114Content：\"Eric_Hinske\",\"BOS\",\"Outfielder\",74,235,29.57,\"Outfielder\"\n",
      "\n",
      "Reading Line:116Content：\"Curt_Schilling\",\"BOS\",\"Starting_Pitcher\",77,235,40.29,\"Pitcher\"\n",
      "\n",
      "Reading Line:118Content：\"Josh_Beckett\",\"BOS\",\"Starting_Pitcher\",77,222,26.79,\"Pitcher\"\n",
      "\n",
      "Reading Line:120Content：\"Jonathan_Papelbon\",\"BOS\",\"Starting_Pitcher\",76,230,26.27,\"Pitcher\"\n",
      "\n",
      "Reading Line:122Content：\"Devern_Hansack\",\"BOS\",\"Starting_Pitcher\",74,180,29.07,\"Pitcher\"\n",
      "\n",
      "Reading Line:124Content：\"Kason_Gabbard\",\"BOS\",\"Starting_Pitcher\",75,200,24.9,\"Pitcher\"\n",
      "\n",
      "Reading Line:126Content：\"Hideki_Okajima\",\"BOS\",\"Relief_Pitcher\",73,194,31.18,\"Pitcher\"\n",
      "\n",
      "Reading Line:128Content：\"Manny_Delcarmen\",\"BOS\",\"Relief_Pitcher\",74,190,25.03,\"Pitcher\"\n",
      "\n",
      "Reading Line:130Content：\"Javier_Lopez\",\"BOS\",\"Relief_Pitcher\",76,200,29.64,\"Pitcher\"\n",
      "\n",
      "Reading Line:132Content：\"Joel_Pineiro\",\"BOS\",\"Relief_Pitcher\",73,200,28.43,\"Pitcher\"\n",
      "\n",
      "Reading Line:134Content：\"Mike_Timlin\",\"BOS\",\"Relief_Pitcher\",76,210,40.97,\"Pitcher\"\n",
      "\n",
      "Reading Line:136Content：\"Victor_Martinez\",\"CLE\",\"Catcher\",74,190,28.19,\"Catcher\"\n",
      "\n",
      "Reading Line:138Content：\"Ryan_Garko\",\"CLE\",\"First_Baseman\",74,225,26.16,\"Infielder\"\n",
      "\n",
      "Reading Line:140Content：\"Josh_Barfield\",\"CLE\",\"Second_Baseman\",72,185,24.2,\"Infielder\"\n",
      "\n",
      "Reading Line:142Content：\"Jhonny_Peralta\",\"CLE\",\"Shortstop\",73,185,24.76,\"Infielder\"\n",
      "\n",
      "Reading Line:144Content：\"Ben_Francisco\",\"CLE\",\"Outfielder\",73,180,25.35,\"Outfielder\"\n",
      "\n",
      "Reading Line:146Content：\"Franklin_Gutierrez\",\"CLE\",\"Outfielder\",74,175,24.02,\"Outfielder\"\n",
      "\n",
      "Reading Line:148Content：\"Jason_Michaels\",\"CLE\",\"Outfielder\",72,204,30.82,\"Outfielder\"\n",
      "\n",
      "Reading Line:150Content：\"David_Dellucci\",\"CLE\",\"Outfielder\",71,190,33.33,\"Outfielder\"\n",
      "\n",
      "Reading Line:152Content：\"Paul_Byrd\",\"CLE\",\"Starting_Pitcher\",73,190,36.24,\"Pitcher\"\n",
      "\n",
      "Reading Line:154Content：\"Jake_Westbrook\",\"CLE\",\"Starting_Pitcher\",75,185,29.42,\"Pitcher\"\n",
      "\n",
      "Reading Line:156Content：\"Jeremy_Sowers\",\"CLE\",\"Starting_Pitcher\",73,175,23.79,\"Pitcher\"\n",
      "\n",
      "Reading Line:158Content：\"Brian_Slocum\",\"CLE\",\"Relief_Pitcher\",76,200,25.93,\"Pitcher\"\n",
      "\n",
      "Reading Line:160Content：\"Fernando_Cabrera\",\"CLE\",\"Relief_Pitcher\",76,170,25.29,\"Pitcher\"\n",
      "\n",
      "Reading Line:162Content：\"Juan_Lara\",\"CLE\",\"Relief_Pitcher\",74,190,26.09,\"Pitcher\"\n",
      "\n",
      "Reading Line:164Content：\"Aaron_Fultz\",\"CLE\",\"Relief_Pitcher\",72,205,33.49,\"Pitcher\"\n",
      "\n",
      "Reading Line:166Content：\"Roberto_Hernandez\",\"CLE\",\"Relief_Pitcher\",76,250,42.3,\"Pitcher\"\n",
      "\n",
      "Reading Line:168Content：\"Matt_Miller\",\"CLE\",\"Relief_Pitcher\",75,215,35.27,\"Pitcher\"\n",
      "\n",
      "Reading Line:170Content：\"Mike_Piazza\",\"OAK\",\"Catcher\",75,215,38.49,\"Catcher\"\n",
      "\n",
      "Reading Line:172Content：\"Adam_Melhuse\",\"OAK\",\"Catcher\",74,200,34.93,\"Catcher\"\n",
      "\n",
      "Reading Line:174Content：\"Dan_Johnson\",\"OAK\",\"First_Baseman\",74,220,27.56,\"Infielder\"\n",
      "\n",
      "Reading Line:176Content：\"Mark_Ellis\",\"OAK\",\"Second_Baseman\",71,180,29.73,\"Infielder\"\n",
      "\n",
      "Reading Line:178Content：\"Bobby_Crosby\",\"OAK\",\"Shortstop\",75,195,27.13,\"Infielder\"\n",
      "\n",
      "Reading Line:180Content：\"Antonio_Perez\",\"OAK\",\"Third_Baseman\",71,170,27.09,\"Infielder\"\n",
      "\n",
      "Reading Line:182Content：\"Milton_Bradley\",\"OAK\",\"Outfielder\",72,205,28.88,\"Outfielder\"\n",
      "\n",
      "Reading Line:184Content：\"Bobby_Kielty\",\"OAK\",\"Outfielder\",73,225,30.57,\"Outfielder\"\n",
      "\n",
      "Reading Line:186Content：\"Ryan_Goleski\",\"OAK\",\"Outfielder\",75,225,24.95,\"Outfielder\"\n",
      "\n",
      "Reading Line:188Content：\"David_Shafer\",\"OAK\",\"Starting_Pitcher\",74,180,24.98,\"Pitcher\"\n",
      "\n",
      "Reading Line:190Content：\"Brad_Halsey\",\"OAK\",\"Starting_Pitcher\",73,180,26.04,\"Pitcher\"\n",
      "\n",
      "Reading Line:192Content：\"Rich_Harden\",\"OAK\",\"Starting_Pitcher\",73,180,25.25,\"Pitcher\"\n",
      "\n",
      "Reading Line:194Content：\"Esteban_Loaiza\",\"OAK\",\"Starting_Pitcher\",75,215,35.16,\"Pitcher\"\n",
      "\n",
      "Reading Line:196Content：\"Jay_Witasick\",\"OAK\",\"Relief_Pitcher\",76,235,34.51,\"Pitcher\"\n",
      "\n",
      "Reading Line:198Content：\"Kiko_Calero\",\"OAK\",\"Relief_Pitcher\",73,180,32.14,\"Pitcher\"\n",
      "\n",
      "Reading Line:200Content：\"Lenny_DiNardo\",\"OAK\",\"Relief_Pitcher\",76,195,27.45,\"Pitcher\"\n",
      "\n",
      "Reading Line:202Content：\"Huston_Street\",\"OAK\",\"Relief_Pitcher\",72,190,23.58,\"Pitcher\"\n",
      "\n",
      "Reading Line:204Content：\"Jay_Marshall\",\"OAK\",\"Relief_Pitcher\",77,185,24.01,\"Pitcher\"\n",
      "\n",
      "Reading Line:206Content：\"Jorge_Posada\",\"NYY\",\"Catcher\",74,205,35.54,\"Catcher\"\n",
      "\n",
      "Reading Line:208Content：\"Andy_Phillips\",\"NYY\",\"First_Baseman\",72,205,29.9,\"Infielder\"\n",
      "\n",
      "Reading Line:210Content：\"Josh_Phelps\",\"NYY\",\"First_Baseman\",75,220,28.8,\"Infielder\"\n",
      "\n",
      "Reading Line:212Content：\"Robinson_Cano\",\"NYY\",\"Second_Baseman\",72,170,24.36,\"Infielder\"\n",
      "\n",
      "Reading Line:214Content：\"Alex_Rodriguez\",\"NYY\",\"Third_Baseman\",75,210,31.59,\"Infielder\"\n",
      "\n",
      "Reading Line:216Content：\"Bobby_Abreu\",\"NYY\",\"Outfielder\",72,211,32.97,\"Outfielder\"\n",
      "\n",
      "Reading Line:218Content：\"Melky_Cabrera\",\"NYY\",\"Outfielder\",71,170,22.55,\"Outfielder\"\n",
      "\n",
      "Reading Line:220Content：\"Mike_Mussina\",\"NYY\",\"Starting_Pitcher\",74,185,38.23,\"Pitcher\"\n",
      "\n",
      "Reading Line:222Content：\"Andy_Pettitte\",\"NYY\",\"Starting_Pitcher\",77,225,34.71,\"Pitcher\"\n",
      "\n",
      "Reading Line:224Content：\"Jeff_Karstens\",\"NYY\",\"Starting_Pitcher\",75,175,24.43,\"Pitcher\"\n",
      "\n",
      "Reading Line:226Content：\"Chien-Ming_Wang\",\"NYY\",\"Starting_Pitcher\",75,200,26.92,\"Pitcher\"\n",
      "\n",
      "Reading Line:228Content：\"Scott_Proctor\",\"NYY\",\"Relief_Pitcher\",73,198,30.16,\"Pitcher\"\n",
      "\n",
      "Reading Line:230Content：\"Chris_Britton\",\"NYY\",\"Relief_Pitcher\",75,278,24.21,\"Pitcher\"\n",
      "\n",
      "Reading Line:232Content：\"Jose_Veras\",\"NYY\",\"Relief_Pitcher\",77,230,26.36,\"Pitcher\"\n",
      "\n",
      "Reading Line:234Content：\"Luis_Vizcaino\",\"NYY\",\"Relief_Pitcher\",71,184,32.57,\"Pitcher\"\n",
      "\n",
      "Reading Line:236Content：\"Mariano_Rivera\",\"NYY\",\"Relief_Pitcher\",74,170,37.25,\"Pitcher\"\n",
      "\n",
      "Reading Line:238Content：\"Vance_Wilson\",\"DET\",\"Catcher\",71,190,33.95,\"Catcher\"\n",
      "\n",
      "Reading Line:240Content：\"Chris_Shelton\",\"DET\",\"First_Baseman\",72,220,26.68,\"Infielder\"\n",
      "\n",
      "Reading Line:242Content：\"Placido_Polanco\",\"DET\",\"Second_Baseman\",70,190,31.39,\"Infielder\"\n",
      "\n",
      "Reading Line:244Content：\"Carlos_Guillen\",\"DET\",\"Shortstop\",73,204,31.42,\"Infielder\"\n",
      "\n",
      "Reading Line:246Content：\"Tony_Giarratano\",\"DET\",\"Shortstop\",72,180,24.25,\"Infielder\"\n",
      "\n",
      "Reading Line:248Content：\"Craig_Monroe\",\"DET\",\"Outfielder\",73,220,30,\"Outfielder\"\n",
      "\n",
      "Reading Line:250Content：\"Curtis_Granderson\",\"DET\",\"Outfielder\",73,185,25.96,\"Outfielder\"\n",
      "\n",
      "Reading Line:252Content：\"Marcus_Thames\",\"DET\",\"Outfielder\",74,205,29.98,\"Outfielder\"\n",
      "\n",
      "Reading Line:254Content：\"Zach_Miner\",\"DET\",\"Starting_Pitcher\",75,200,24.97,\"Pitcher\"\n",
      "\n",
      "Reading Line:256Content：\"Nate_Robertson\",\"DET\",\"Starting_Pitcher\",74,215,29.49,\"Pitcher\"\n",
      "\n",
      "Reading Line:258Content：\"Virgil_Vasquez\",\"DET\",\"Starting_Pitcher\",75,205,24.73,\"Pitcher\"\n",
      "\n",
      "Reading Line:260Content：\"Mike_Maroth\",\"DET\",\"Starting_Pitcher\",72,190,29.54,\"Pitcher\"\n",
      "\n",
      "Reading Line:262Content：\"Chad_Durbin\",\"DET\",\"Relief_Pitcher\",74,200,29.24,\"Pitcher\"\n",
      "\n",
      "Reading Line:264Content：\"Jose_Mesa\",\"DET\",\"Relief_Pitcher\",75,232,40.77,\"Pitcher\"\n",
      "\n",
      "Reading Line:266Content：\"Joel_Zumaya\",\"DET\",\"Relief_Pitcher\",75,210,22.31,\"Pitcher\"\n",
      "\n",
      "Reading Line:268Content：\"Andrew_Miller\",\"DET\",\"Relief_Pitcher\",78,210,21.78,\"Pitcher\"\n",
      "\n",
      "Reading Line:270Content：\"Wilfredo_Ledezma\",\"DET\",\"Relief_Pitcher\",76,212,26.11,\"Pitcher\"\n",
      "\n",
      "Reading Line:272Content：\"Edward_Campusano\",\"DET\",\"Relief_Pitcher\",76,170,24.63,\"Pitcher\"\n",
      "\n",
      "Reading Line:274Content：\"Kenji_Johjima\",\"SEA\",\"Catcher\",72,200,30.73,\"Catcher\"\n",
      "\n",
      "Reading Line:276Content：\"Ben_Broussard\",\"SEA\",\"First_Baseman\",74,220,30.43,\"Infielder\"\n",
      "\n",
      "Reading Line:278Content：\"Jose_Vidro\",\"SEA\",\"Second_Baseman\",71,193,32.51,\"Infielder\"\n",
      "\n",
      "Reading Line:280Content：\"Oswaldo_Navarro\",\"SEA\",\"Shortstop\",72,150,22.41,\"Infielder\"\n",
      "\n",
      "Reading Line:282Content：\"Raul_Ibanez\",\"SEA\",\"Outfielder\",74,200,34.74,\"Outfielder\"\n",
      "\n",
      "Reading Line:284Content：\"Jeremy_Reed\",\"SEA\",\"Outfielder\",72,185,25.71,\"Outfielder\"\n",
      "\n",
      "Reading Line:286Content：\"Adam_Jones\",\"SEA\",\"Outfielder\",74,200,21.58,\"Outfielder\"\n",
      "\n",
      "Reading Line:288Content：\"Mike_Morse\",\"SEA\",\"Outfielder\",76,220,24.94,\"Outfielder\"\n",
      "\n",
      "Reading Line:290Content：\"Ryan_Feierabend\",\"SEA\",\"Starting_Pitcher\",75,190,21.52,\"Pitcher\"\n",
      "\n",
      "Reading Line:292Content：\"Horacio_Ramirez\",\"SEA\",\"Starting_Pitcher\",73,219,27.27,\"Pitcher\"\n",
      "\n",
      "Reading Line:294Content：\"Miguel_Batista\",\"SEA\",\"Starting_Pitcher\",73,197,36.03,\"Pitcher\"\n",
      "\n",
      "Reading Line:296Content：\"Jarrod_Washburn\",\"SEA\",\"Starting_Pitcher\",73,195,32.55,\"Pitcher\"\n",
      "\n",
      "Reading Line:298Content：\"Julio_Mateo\",\"SEA\",\"Relief_Pitcher\",72,177,29.58,\"Pitcher\"\n",
      "\n",
      "Reading Line:300Content：\"Chris_Reitsma\",\"SEA\",\"Relief_Pitcher\",77,235,29.16,\"Pitcher\"\n",
      "\n",
      "Reading Line:302Content：\"Eric_O'Flaherty\",\"SEA\",\"Relief_Pitcher\",74,195,22.06,\"Pitcher\"\n",
      "\n",
      "Reading Line:304Content：\"Jake_Woods\",\"SEA\",\"Relief_Pitcher\",73,190,25.49,\"Pitcher\"\n",
      "\n",
      "Reading Line:306Content：\"Mark_Lowe\",\"SEA\",\"Relief_Pitcher\",75,190,23.73,\"Pitcher\"\n",
      "\n",
      "Reading Line:308Content：\"Dioner_Navarro\",\"TB\",\"Catcher\",70,190,23.06,\"Catcher\"\n",
      "\n",
      "Reading Line:310Content：\"Ty_Wigginton\",\"TB\",\"First_Baseman\",72,200,29.39,\"Infielder\"\n",
      "\n",
      "Reading Line:312Content：\"Jorge_Cantu\",\"TB\",\"Second_Baseman\",73,184,25.08,\"Infielder\"\n",
      "\n",
      "Reading Line:314Content：\"B.J._Upton\",\"TB\",\"Third_Baseman\",75,180,22.52,\"Infielder\"\n",
      "\n",
      "Reading Line:316Content：\"Rocco_Baldelli\",\"TB\",\"Outfielder\",76,187,25.43,\"Outfielder\"\n",
      "\n",
      "Reading Line:318Content：\"Elijah_Dukes\",\"TB\",\"Outfielder\",74,220,22.68,\"Outfielder\"\n",
      "\n",
      "Reading Line:320Content：\"Edwin_Jackson\",\"TB\",\"Starting_Pitcher\",75,190,23.47,\"Pitcher\"\n",
      "\n",
      "Reading Line:322Content：\"Casey_Fossum\",\"TB\",\"Starting_Pitcher\",73,160,29.14,\"Pitcher\"\n",
      "\n",
      "Reading Line:324Content：\"J.P._Howell\",\"TB\",\"Starting_Pitcher\",72,175,23.85,\"Pitcher\"\n",
      "\n",
      "Reading Line:326Content：\"Jason_Hammel\",\"TB\",\"Starting_Pitcher\",78,200,24.49,\"Pitcher\"\n",
      "\n",
      "Reading Line:328Content：\"Brian_Stokes\",\"TB\",\"Starting_Pitcher\",73,200,27.48,\"Pitcher\"\n",
      "\n",
      "Reading Line:330Content：\"Jeff_Ridgway\",\"TB\",\"Relief_Pitcher\",75,180,26.54,\"Pitcher\"\n",
      "\n",
      "Reading Line:332Content：\"Jae-Kuk_Ryu\",\"TB\",\"Relief_Pitcher\",75,220,23.75,\"Pitcher\"\n",
      "\n",
      "Reading Line:334Content：\"Dan_Miceli\",\"TB\",\"Relief_Pitcher\",72,215,36.47,\"Pitcher\"\n",
      "\n",
      "Reading Line:336Content：\"Jon_Switzer\",\"TB\",\"Relief_Pitcher\",75,191,27.55,\"Pitcher\"\n",
      "\n",
      "Reading Line:338Content：\"Scott_Dohmann\",\"TB\",\"Relief_Pitcher\",73,181,29.04,\"Pitcher\"\n",
      "\n",
      "Reading Line:340Content：\"John_Buck\",\"KC\",\"Catcher\",75,210,26.65,\"Catcher\"\n",
      "\n",
      "Reading Line:342Content：\"Ross_Gload\",\"KC\",\"First_Baseman\",72,185,30.9,\"Infielder\"\n",
      "\n",
      "Reading Line:344Content：\"Mark_Grudzielanek\",\"KC\",\"Second_Baseman\",73,190,36.67,\"Infielder\"\n",
      "\n",
      "Reading Line:346Content：\"Angel_Berroa\",\"KC\",\"Shortstop\",72,175,29.09,\"Infielder\"\n",
      "\n",
      "Reading Line:348Content：\"Mark_Teahen\",\"KC\",\"Third_Baseman\",75,210,25.48,\"Infielder\"\n",
      "\n",
      "Reading Line:350Content：\"David_DeJesus\",\"KC\",\"Outfielder\",72,175,27.2,\"Outfielder\"\n",
      "\n",
      "Reading Line:352Content：\"Mitch_Maier\",\"KC\",\"Outfielder\",74,210,24.67,\"Outfielder\"\n",
      "\n",
      "Reading Line:354Content：\"Emil_Brown\",\"KC\",\"Outfielder\",74,200,32.17,\"Outfielder\"\n",
      "\n",
      "Reading Line:356Content：\"Luke_Hudson\",\"KC\",\"Starting_Pitcher\",75,195,29.83,\"Pitcher\"\n",
      "\n",
      "Reading Line:358Content：\"Odalis_Perez\",\"KC\",\"Starting_Pitcher\",72,150,29.73,\"Pitcher\"\n",
      "\n",
      "Reading Line:360Content：\"Neal_Musser\",\"KC\",\"Starting_Pitcher\",73,215,26.51,\"Pitcher\"\n",
      "\n",
      "Reading Line:362Content：\"Zack_Greinke\",\"KC\",\"Starting_Pitcher\",74,200,23.36,\"Pitcher\"\n",
      "\n",
      "Reading Line:364Content：\"Todd_Wellemeyer\",\"KC\",\"Relief_Pitcher\",75,205,28.5,\"Pitcher\"\n",
      "\n",
      "Reading Line:366Content：\"Joel_Peralta\",\"KC\",\"Relief_Pitcher\",71,160,30.94,\"Pitcher\"\n",
      "\n",
      "Reading Line:368Content：\"Joakim_Soria\",\"KC\",\"Relief_Pitcher\",75,185,22.78,\"Pitcher\"\n",
      "\n",
      "Reading Line:370Content：\"David_Riske\",\"KC\",\"Relief_Pitcher\",74,190,30.35,\"Pitcher\"\n",
      "\n",
      "Reading Line:372Content：\"Joe_Nelson\",\"KC\",\"Relief_Pitcher\",74,185,32.35,\"Pitcher\"\n",
      "\n",
      "Reading Line:374Content：\"Miguel_Ojeda\",\"TEX\",\"Catcher\",74,190,32.08,\"Catcher\"\n",
      "\n",
      "Reading Line:376Content：\"Chris_Stewart\",\"TEX\",\"Catcher\",76,205,25.03,\"Catcher\"\n",
      "\n",
      "Reading Line:378Content：\"Ian_Kinsler\",\"TEX\",\"Second_Baseman\",72,175,24.69,\"Infielder\"\n",
      "\n",
      "Reading Line:380Content：\"Michael_Young\",\"TEX\",\"Shortstop\",73,190,30.36,\"Infielder\"\n",
      "\n",
      "Reading Line:382Content：\"Marlon_Byrd\",\"TEX\",\"Outfielder\",72,229,29.5,\"Outfielder\"\n",
      "\n",
      "Reading Line:384Content：\"Sammy_Sosa\",\"TEX\",\"Outfielder\",72,220,38.3,\"Outfielder\"\n",
      "\n",
      "Reading Line:386Content：\"Frank_Catalanotto\",\"TEX\",\"Outfielder\",71,195,32.84,\"Outfielder\"\n",
      "\n",
      "Reading Line:388Content：\"Robinson_Tejeda\",\"TEX\",\"Starting_Pitcher\",75,188,24.94,\"Pitcher\"\n",
      "\n",
      "Reading Line:390Content：\"Edinson_Volquez\",\"TEX\",\"Starting_Pitcher\",73,190,23.66,\"Pitcher\"\n",
      "\n",
      "Reading Line:392Content：\"Brandon_McCarthy\",\"TEX\",\"Starting_Pitcher\",79,190,23.65,\"Pitcher\"\n",
      "\n",
      "Reading Line:394Content：\"Kevin_Millwood\",\"TEX\",\"Starting_Pitcher\",76,235,32.18,\"Pitcher\"\n",
      "\n",
      "Reading Line:396Content：\"Frank_Francisco\",\"TEX\",\"Relief_Pitcher\",74,180,27.47,\"Pitcher\"\n",
      "\n",
      "Reading Line:398Content：\"Akinori_Otsuka\",\"TEX\",\"Relief_Pitcher\",72,200,35.13,\"Pitcher\"\n",
      "\n",
      "Reading Line:400Content：\"Ron_Mahay\",\"TEX\",\"Relief_Pitcher\",74,185,35.67,\"Pitcher\"\n",
      "\n",
      "Reading Line:402Content：\"Rick_Bauer\",\"TEX\",\"Relief_Pitcher\",78,223,30.14,\"Pitcher\"\n",
      "\n",
      "Reading Line:404Content：\"Wes_Littleton\",\"TEX\",\"Relief_Pitcher\",74,210,24.49,\"Pitcher\"\n",
      "\n",
      "Reading Line:406Content：\"Scott_Feldman\",\"TEX\",\"Relief_Pitcher\",77,210,24.06,\"Pitcher\"\n",
      "\n",
      "Reading Line:408Content：\"Jason_Phillips\",\"TOR\",\"Catcher\",73,177,30.42,\"Catcher\"\n",
      "\n",
      "Reading Line:410Content：\"Russ_Adams\",\"TOR\",\"Second_Baseman\",73,180,26.5,\"Infielder\"\n",
      "\n",
      "Reading Line:412Content：\"Jason_Smith\",\"TOR\",\"Second_Baseman\",75,199,29.6,\"Infielder\"\n",
      "\n",
      "Reading Line:414Content：\"Royce_Clayton\",\"TOR\",\"Shortstop\",72,185,37.16,\"Infielder\"\n",
      "\n",
      "Reading Line:416Content：\"John_Hattig\",\"TOR\",\"Third_Baseman\",74,210,27.01,\"Infielder\"\n",
      "\n",
      "Reading Line:418Content：\"Alex_Rios\",\"TOR\",\"Outfielder\",77,194,26.03,\"Outfielder\"\n",
      "\n",
      "Reading Line:420Content：\"Shaun_Marcum\",\"TOR\",\"Starting_Pitcher\",72,180,25.21,\"Pitcher\"\n",
      "\n",
      "Reading Line:422Content：\"Gustavo_Chacin\",\"TOR\",\"Starting_Pitcher\",71,193,26.24,\"Pitcher\"\n",
      "\n",
      "Reading Line:424Content：\"Roy_Halladay\",\"TOR\",\"Starting_Pitcher\",78,230,29.8,\"Pitcher\"\n",
      "\n",
      "Reading Line:426Content：\"Tomo_Ohka\",\"TOR\",\"Starting_Pitcher\",73,200,30.95,\"Pitcher\"\n",
      "\n",
      "Reading Line:428Content：\"Scott_Downs\",\"TOR\",\"Relief_Pitcher\",74,190,30.95,\"Pitcher\"\n",
      "\n",
      "Reading Line:430Content：\"Matt_Roney\",\"TOR\",\"Relief_Pitcher\",75,245,27.14,\"Pitcher\"\n",
      "\n",
      "Reading Line:432Content：\"Jean_Machi\",\"TOR\",\"Relief_Pitcher\",72,160,24.08,\"Pitcher\"\n",
      "\n",
      "Reading Line:434Content：\"Dustin_McGowan\",\"TOR\",\"Relief_Pitcher\",75,220,24.94,\"Pitcher\"\n",
      "\n",
      "Reading Line:436Content：\"Francisco_Rosario\",\"TOR\",\"Relief_Pitcher\",72,197,26.42,\"Pitcher\"\n",
      "\n",
      "Reading Line:438Content：\"Jeremy_Accardo\",\"TOR\",\"Relief_Pitcher\",74,190,25.23,\"Pitcher\"\n",
      "\n",
      "Reading Line:440Content：\"Joe_Mauer\",\"MIN\",\"Catcher\",76,220,23.87,\"Catcher\"\n",
      "\n",
      "Reading Line:442Content：\"Justin_Morneau\",\"MIN\",\"First_Baseman\",76,228,25.79,\"Infielder\"\n",
      "\n",
      "Reading Line:444Content：\"Alexi_Casilla\",\"MIN\",\"Second_Baseman\",69,160,22.61,\"Infielder\"\n",
      "\n",
      "Reading Line:446Content：\"Jason_Bartlett\",\"MIN\",\"Shortstop\",72,180,27.33,\"Infielder\"\n",
      "\n",
      "Reading Line:448Content：\"Jeff_Cirillo\",\"MIN\",\"Third_Baseman\",73,200,37.43,\"Infielder\"\n",
      "\n",
      "Reading Line:450Content：\"Jason_Tyner\",\"MIN\",\"Outfielder\",73,160,29.85,\"Outfielder\"\n",
      "\n",
      "Reading Line:452Content：\"Torii_Hunter\",\"MIN\",\"Outfielder\",74,211,31.62,\"Outfielder\"\n",
      "\n",
      "Reading Line:454Content：\"Jason_Kubel\",\"MIN\",\"Outfielder\",71,200,24.77,\"Outfielder\"\n",
      "\n",
      "Reading Line:456Content：\"Johan_Santana\",\"MIN\",\"Starting_Pitcher\",72,206,27.97,\"Pitcher\"\n",
      "\n",
      "Reading Line:458Content：\"Matt_Garza\",\"MIN\",\"Starting_Pitcher\",76,185,23.26,\"Pitcher\"\n",
      "\n",
      "Reading Line:460Content：\"Francisco_Liriano\",\"MIN\",\"Starting_Pitcher\",74,185,23.35,\"Pitcher\"\n",
      "\n",
      "Reading Line:462Content：\"Pat_Neshek\",\"MIN\",\"Relief_Pitcher\",75,205,26.49,\"Pitcher\"\n",
      "\n",
      "Reading Line:464Content：\"Julio_DePaula\",\"MIN\",\"Relief_Pitcher\",72,170,24.16,\"Pitcher\"\n",
      "\n",
      "Reading Line:466Content：\"Jesse_Crain\",\"MIN\",\"Relief_Pitcher\",73,205,25.65,\"Pitcher\"\n",
      "\n",
      "Reading Line:468Content：\"Joe_Nathan\",\"MIN\",\"Relief_Pitcher\",76,205,32.27,\"Pitcher\"\n",
      "\n",
      "Reading Line:470Content：\"Brayan_Pe?a\",\"ATL\",\"Catcher\",71,220,25.14,\"Catcher\"\n",
      "\n",
      "Reading Line:472Content：\"Craig_Wilson\",\"ATL\",\"First_Baseman\",74,220,30.25,\"Infielder\"\n",
      "\n",
      "Reading Line:474Content：\"Pete_Orr\",\"ATL\",\"Second_Baseman\",73,175,27.73,\"Infielder\"\n",
      "\n",
      "Reading Line:476Content：\"Tony_Pe?a\",\"ATL\",\"Shortstop\",73,180,25.94,\"Infielder\"\n",
      "\n",
      "Reading Line:478Content：\"Chipper_Jones\",\"ATL\",\"Third_Baseman\",76,210,34.85,\"Infielder\"\n",
      "\n",
      "Reading Line:480Content：\"Jeff_Francoeur\",\"ATL\",\"Outfielder\",76,220,23.14,\"Outfielder\"\n",
      "\n",
      "Reading Line:482Content：\"Kelly_Johnson\",\"ATL\",\"Outfielder\",73,180,25.02,\"Outfielder\"\n",
      "\n",
      "Reading Line:484Content：\"Ryan_Langerhans\",\"ATL\",\"Outfielder\",75,195,27.03,\"Outfielder\"\n",
      "\n",
      "Reading Line:486Content：\"T.J._Bohn\",\"ATL\",\"Outfielder\",77,200,27.12,\"Outfielder\"\n",
      "\n",
      "Reading Line:488Content：\"Jonathan_Johnson\",\"ATL\",\"Starting_Pitcher\",72,180,32.62,\"Pitcher\"\n",
      "\n",
      "Reading Line:490Content：\"Mike_Hampton\",\"ATL\",\"Starting_Pitcher\",70,195,34.47,\"Pitcher\"\n",
      "\n",
      "Reading Line:492Content：\"Chuck_James\",\"ATL\",\"Starting_Pitcher\",72,170,25.31,\"Pitcher\"\n",
      "\n",
      "Reading Line:494Content：\"Macay_McBride\",\"ATL\",\"Relief_Pitcher\",71,210,24.35,\"Pitcher\"\n",
      "\n",
      "Reading Line:496Content：\"Peter_Moylan\",\"ATL\",\"Relief_Pitcher\",74,200,28.24,\"Pitcher\"\n",
      "\n",
      "Reading Line:498Content：\"Lance_Cormier\",\"ATL\",\"Relief_Pitcher\",73,192,26.53,\"Pitcher\"\n",
      "\n",
      "Reading Line:500Content：\"Manny_Acosta\",\"ATL\",\"Relief_Pitcher\",76,170,25.83,\"Pitcher\"\n",
      "\n",
      "Reading Line:502Content：\"Tanyon_Sturtze\",\"ATL\",\"Relief_Pitcher\",77,200,36.38,\"Pitcher\"\n",
      "\n",
      "Reading Line:504Content：\"Rafael_Soriano\",\"ATL\",\"Relief_Pitcher\",73,175,27.2,\"Pitcher\"\n",
      "\n",
      "Reading Line:506Content：\"Tyler_Yates\",\"ATL\",\"Relief_Pitcher\",76,220,29.56,\"Pitcher\"\n",
      "\n",
      "Reading Line:508Content：\"Michael_Barrett\",\"CHC\",\"Catcher\",75,210,30.35,\"Catcher\"\n",
      "\n",
      "Reading Line:510Content：\"Scott_Moore\",\"CHC\",\"First_Baseman\",74,180,23.29,\"Infielder\"\n",
      "\n",
      "Reading Line:512Content：\"Ryan_Theriot\",\"CHC\",\"Second_Baseman\",71,175,27.23,\"Infielder\"\n",
      "\n",
      "Reading Line:514Content：\"Aramis_Ramirez\",\"CHC\",\"Third_Baseman\",73,215,28.68,\"Infielder\"\n",
      "\n",
      "Reading Line:516Content：\"Alfonso_Soriano\",\"CHC\",\"Outfielder\",73,180,31.15,\"Outfielder\"\n",
      "\n",
      "Reading Line:518Content：\"Daryle_Ward\",\"CHC\",\"Outfielder\",74,230,31.68,\"Outfielder\"\n",
      "\n",
      "Reading Line:520Content：\"Mark_DeRosa\",\"CHC\",\"Outfielder\",73,205,32.01,\"Outfielder\"\n",
      "\n",
      "Reading Line:522Content：\"Buck_Coats\",\"CHC\",\"Outfielder\",75,195,24.73,\"Outfielder\"\n",
      "\n",
      "Reading Line:524Content：\"Sean_Marshall\",\"CHC\",\"Starting_Pitcher\",79,205,24.5,\"Pitcher\"\n",
      "\n",
      "Reading Line:526Content：\"Ryan_O'Malley\",\"CHC\",\"Starting_Pitcher\",73,190,26.89,\"Pitcher\"\n",
      "\n",
      "Reading Line:528Content：\"Rich_Hill\",\"CHC\",\"Starting_Pitcher\",77,190,26.97,\"Pitcher\"\n",
      "\n",
      "Reading Line:530Content：\"Wade_Miller\",\"CHC\",\"Starting_Pitcher\",74,220,30.46,\"Pitcher\"\n",
      "\n",
      "Reading Line:532Content：\"Carlos_Zambrano\",\"CHC\",\"Starting_Pitcher\",77,255,25.75,\"Pitcher\"\n",
      "\n",
      "Reading Line:534Content：\"Mark_Prior\",\"CHC\",\"Starting_Pitcher\",77,230,26.48,\"Pitcher\"\n",
      "\n",
      "Reading Line:536Content：\"Will_Ohman\",\"CHC\",\"Relief_Pitcher\",74,205,29.55,\"Pitcher\"\n",
      "\n",
      "Reading Line:538Content：\"Kerry_Wood\",\"CHC\",\"Relief_Pitcher\",77,225,29.71,\"Pitcher\"\n",
      "\n",
      "Reading Line:540Content：\"Bob_Howry\",\"CHC\",\"Relief_Pitcher\",77,220,33.57,\"Pitcher\"\n",
      "\n",
      "Reading Line:542Content：\"Roberto_Novoa\",\"CHC\",\"Relief_Pitcher\",77,200,27.54,\"Pitcher\"\n",
      "\n",
      "Reading Line:544Content：\"Miguel_Montero\",\"ARZ\",\"Catcher\",71,197,23.64,\"Catcher\"\n",
      "\n",
      "Reading Line:546Content：\"Robby_Hammock\",\"ARZ\",\"First_Baseman\",70,187,29.8,\"Infielder\"\n",
      "\n",
      "Reading Line:548Content：\"Orlando_Hudson\",\"ARZ\",\"Second_Baseman\",72,185,29.22,\"Infielder\"\n",
      "\n",
      "Reading Line:550Content：\"Alberto_Callaspo\",\"ARZ\",\"Shortstop\",70,175,23.87,\"Infielder\"\n",
      "\n",
      "Reading Line:552Content：\"Chris_Young\",\"ARZ\",\"Outfielder\",74,180,23.49,\"Outfielder\"\n",
      "\n",
      "Reading Line:554Content：\"Carlos_Quentin\",\"ARZ\",\"Outfielder\",73,225,24.51,\"Outfielder\"\n",
      "\n",
      "Reading Line:556Content：\"Eric_Byrnes\",\"ARZ\",\"Outfielder\",74,210,31.04,\"Outfielder\"\n",
      "\n",
      "Reading Line:558Content：\"Doug_Davis\",\"ARZ\",\"Starting_Pitcher\",76,213,31.44,\"Pitcher\"\n",
      "\n",
      "Reading Line:560Content：\"Juan_Cruz\",\"ARZ\",\"Starting_Pitcher\",74,165,28.38,\"Pitcher\"\n",
      "\n",
      "Reading Line:562Content：\"Enrique_Gonzalez\",\"ARZ\",\"Starting_Pitcher\",70,210,24.57,\"Pitcher\"\n",
      "\n",
      "Reading Line:564Content：\"Brandon_Medders\",\"ARZ\",\"Relief_Pitcher\",73,191,27.09,\"Pitcher\"\n",
      "\n",
      "Reading Line:566Content：\"Doug_Slaten\",\"ARZ\",\"Relief_Pitcher\",77,200,27.07,\"Pitcher\"\n",
      "\n",
      "Reading Line:568Content：\"Jose_Valverde\",\"ARZ\",\"Relief_Pitcher\",76,254,27.6,\"Pitcher\"\n",
      "\n",
      "Reading Line:570Content：\"Brandon_Lyon\",\"ARZ\",\"Relief_Pitcher\",73,180,27.56,\"Pitcher\"\n",
      "\n",
      "Reading Line:572Content：\"Matt_Treanor\",\"FLA\",\"Catcher\",74,220,30.99,\"Catcher\"\n",
      "\n",
      "Reading Line:574Content：\"Dan_Uggla\",\"FLA\",\"Second_Baseman\",71,200,26.97,\"Infielder\"\n",
      "\n",
      "Reading Line:576Content：\"Hanley_Ramirez\",\"FLA\",\"Shortstop\",75,195,23.19,\"Infielder\"\n",
      "\n",
      "Reading Line:578Content：\"Aaron_Boone\",\"FLA\",\"Third_Baseman\",74,200,33.98,\"Infielder\"\n",
      "\n",
      "Reading Line:580Content：\"Alfredo_Amezaga\",\"FLA\",\"Outfielder\",70,165,29.12,\"Outfielder\"\n",
      "\n",
      "Reading Line:582Content：\"Josh_Willingham\",\"FLA\",\"Outfielder\",73,200,28.03,\"Outfielder\"\n",
      "\n",
      "Reading Line:584Content：\"Eric_Reed\",\"FLA\",\"Outfielder\",71,170,26.24,\"Outfielder\"\n",
      "\n",
      "Reading Line:586Content：\"Ricky_Nolasco\",\"FLA\",\"Starting_Pitcher\",74,220,24.21,\"Pitcher\"\n",
      "\n",
      "Reading Line:588Content：\"Scott_Olsen\",\"FLA\",\"Starting_Pitcher\",76,198,23.13,\"Pitcher\"\n",
      "\n",
      "Reading Line:590Content：\"Dontrelle_Willis\",\"FLA\",\"Starting_Pitcher\",76,239,25.13,\"Pitcher\"\n",
      "\n",
      "Reading Line:592Content：\"Sergio_Mitre\",\"FLA\",\"Relief_Pitcher\",76,210,26.03,\"Pitcher\"\n",
      "\n",
      "Reading Line:594Content：\"Travis_Bowyer\",\"FLA\",\"Relief_Pitcher\",75,200,25.57,\"Pitcher\"\n",
      "\n",
      "Reading Line:596Content：\"Randy_Messenger\",\"FLA\",\"Relief_Pitcher\",72,220,25.55,\"Pitcher\"\n",
      "\n",
      "Reading Line:598Content：\"Carlos_Martinez\",\"FLA\",\"Relief_Pitcher\",73,170,24.76,\"Pitcher\"\n",
      "\n",
      "Reading Line:600Content：\"Henry_Owens\",\"FLA\",\"Relief_Pitcher\",75,230,27.85,\"Pitcher\"\n",
      "\n",
      "Reading Line:602Content：\"Matt_Lindstrom\",\"FLA\",\"Relief_Pitcher\",76,205,27.05,\"Pitcher\"\n",
      "\n",
      "Reading Line:604Content：\"Chad_Moeller\",\"CIN\",\"Catcher\",75,210,32.03,\"Catcher\"\n",
      "\n",
      "Reading Line:606Content：\"Joey_Votto\",\"CIN\",\"First_Baseman\",75,200,23.47,\"Infielder\"\n",
      "\n",
      "Reading Line:608Content：\"Brandon_Phillips\",\"CIN\",\"Second_Baseman\",71,185,25.67,\"Infielder\"\n",
      "\n",
      "Reading Line:610Content：\"Alex_Gonzalez\",\"CIN\",\"Shortstop\",72,202,30.04,\"Infielder\"\n",
      "\n",
      "Reading Line:612Content：\"Edwin_Encarnacion\",\"CIN\",\"Third_Baseman\",73,195,24.15,\"Infielder\"\n",
      "\n",
      "Reading Line:614Content：\"Norris_Hopper\",\"CIN\",\"Outfielder\",69,200,27.94,\"Outfielder\"\n",
      "\n",
      "Reading Line:616Content：\"Adam_Dunn\",\"CIN\",\"Outfielder\",78,240,27.31,\"Outfielder\"\n",
      "\n",
      "Reading Line:618Content：\"Jeff_Conine\",\"CIN\",\"Outfielder\",73,220,40.68,\"Outfielder\"\n",
      "\n",
      "Reading Line:620Content：\"Josh_Hamilton\",\"CIN\",\"Outfielder\",76,205,25.78,\"Outfielder\"\n",
      "\n",
      "Reading Line:622Content：\"Kyle_Lohse\",\"CIN\",\"Starting_Pitcher\",74,201,28.41,\"Pitcher\"\n",
      "\n",
      "Reading Line:624Content：\"Eric_Milton\",\"CIN\",\"Starting_Pitcher\",75,208,31.57,\"Pitcher\"\n",
      "\n",
      "Reading Line:626Content：\"Elizardo_Ramirez\",\"CIN\",\"Starting_Pitcher\",72,180,24.09,\"Pitcher\"\n",
      "\n",
      "Reading Line:628Content：\"Brian_Shackelford\",\"CIN\",\"Relief_Pitcher\",73,195,30.5,\"Pitcher\"\n",
      "\n",
      "Reading Line:630Content：\"Bobby_Livingston\",\"CIN\",\"Relief_Pitcher\",75,190,24.49,\"Pitcher\"\n",
      "\n",
      "Reading Line:632Content：\"Gary_Majewski\",\"CIN\",\"Relief_Pitcher\",73,215,27.01,\"Pitcher\"\n",
      "\n",
      "Reading Line:634Content：\"Brad_Salmon\",\"CIN\",\"Relief_Pitcher\",76,220,27.16,\"Pitcher\"\n",
      "\n",
      "Reading Line:636Content：\"David_Weathers\",\"CIN\",\"Relief_Pitcher\",75,230,37.43,\"Pitcher\"\n",
      "\n",
      "Reading Line:638Content：\"Yorvit_Torrealba\",\"COL\",\"Catcher\",71,190,28.62,\"Catcher\"\n",
      "\n",
      "Reading Line:640Content：\"Alvin_Colina\",\"COL\",\"Catcher\",75,209,25.18,\"Catcher\"\n",
      "\n",
      "Reading Line:642Content：\"Jamey_Carroll\",\"COL\",\"Second_Baseman\",69,170,33.03,\"Infielder\"\n",
      "\n",
      "Reading Line:644Content：\"Troy_Tulowitzki\",\"COL\",\"Shortstop\",75,205,22.39,\"Infielder\"\n",
      "\n",
      "Reading Line:646Content：\"Garrett_Atkins\",\"COL\",\"Third_Baseman\",75,210,27.22,\"Infielder\"\n",
      "\n",
      "Reading Line:648Content：\"Cory_Sullivan\",\"COL\",\"Outfielder\",72,180,27.53,\"Outfielder\"\n",
      "\n",
      "Reading Line:650Content：\"Willy_Taveras\",\"COL\",\"Outfielder\",72,160,25.18,\"Outfielder\"\n",
      "\n",
      "Reading Line:652Content：\"Brad_Hawpe\",\"COL\",\"Outfielder\",75,200,27.69,\"Outfielder\"\n",
      "\n",
      "Reading Line:654Content：\"Byung-Hyun_Kim\",\"COL\",\"Starting_Pitcher\",69,180,28.11,\"Pitcher\"\n",
      "\n",
      "Reading Line:656Content：\"Brian_Lawrence\",\"COL\",\"Starting_Pitcher\",72,197,30.8,\"Pitcher\"\n",
      "\n",
      "Reading Line:658Content：\"Aaron_Cook\",\"COL\",\"Starting_Pitcher\",75,205,28.06,\"Pitcher\"\n",
      "\n",
      "Reading Line:660Content：\"Ubaldo_Jimenez\",\"COL\",\"Starting_Pitcher\",76,200,23.1,\"Pitcher\"\n",
      "\n",
      "Reading Line:662Content：\"Jeff_Francis\",\"COL\",\"Starting_Pitcher\",77,200,26.14,\"Pitcher\"\n",
      "\n",
      "Reading Line:664Content：\"Ryan_Speier\",\"COL\",\"Relief_Pitcher\",79,200,27.6,\"Pitcher\"\n",
      "\n",
      "Reading Line:666Content：\"Manny_Corpas\",\"COL\",\"Relief_Pitcher\",75,170,24.24,\"Pitcher\"\n",
      "\n",
      "Reading Line:668Content：\"Brian_Fuentes\",\"COL\",\"Relief_Pitcher\",76,220,31.56,\"Pitcher\"\n",
      "\n",
      "Reading Line:670Content：\"Tom_Martin\",\"COL\",\"Relief_Pitcher\",73,206,36.78,\"Pitcher\"\n",
      "\n",
      "Reading Line:672Content：\"Paul_Lo_Duca\",\"NYM\",\"Catcher\",70,185,34.88,\"Catcher\"\n",
      "\n",
      "Reading Line:674Content：\"Julio_Franco\",\"NYM\",\"First_Baseman\",73,188,48.52,\"Infielder\"\n",
      "\n",
      "Reading Line:676Content：\"Jose_Valentin\",\"NYM\",\"Second_Baseman\",70,195,37.38,\"Infielder\"\n",
      "\n",
      "Reading Line:678Content：\"Damion_Easley\",\"NYM\",\"Shortstop\",71,190,37.3,\"Infielder\"\n",
      "\n",
      "Reading Line:680Content：\"David_Wright\",\"NYM\",\"Third_Baseman\",72,200,24.19,\"Infielder\"\n",
      "\n",
      "Reading Line:682Content：\"Endy_Chavez\",\"NYM\",\"Outfielder\",70,189,29.06,\"Outfielder\"\n",
      "\n",
      "Reading Line:684Content：\"Carlos_Beltran\",\"NYM\",\"Outfielder\",73,190,29.85,\"Outfielder\"\n",
      "\n",
      "Reading Line:686Content：\"Moises_Alou\",\"NYM\",\"Outfielder\",75,220,40.66,\"Outfielder\"\n",
      "\n",
      "Reading Line:688Content：\"Alay_Soler\",\"NYM\",\"Starting_Pitcher\",73,240,27.39,\"Pitcher\"\n",
      "\n",
      "Reading Line:690Content：\"Pedro_Martinez\",\"NYM\",\"Starting_Pitcher\",71,180,35.35,\"Pitcher\"\n",
      "\n",
      "Reading Line:692Content：\"Chan_Ho_Park\",\"NYM\",\"Starting_Pitcher\",74,210,33.67,\"Pitcher\"\n",
      "\n",
      "Reading Line:694Content：\"Dave_Williams\",\"NYM\",\"Starting_Pitcher\",74,219,27.97,\"Pitcher\"\n",
      "\n",
      "Reading Line:696Content：\"John_Maine\",\"NYM\",\"Starting_Pitcher\",76,193,25.81,\"Pitcher\"\n",
      "\n",
      "Reading Line:698Content：\"Ambiorix_Burgos\",\"NYM\",\"Relief_Pitcher\",72,180,22.86,\"Pitcher\"\n",
      "\n",
      "Reading Line:700Content：\"Jon_Adkins\",\"NYM\",\"Relief_Pitcher\",71,210,29.5,\"Pitcher\"\n",
      "\n",
      "Reading Line:702Content：\"Duaner_Sanchez\",\"NYM\",\"Relief_Pitcher\",72,190,27.38,\"Pitcher\"\n",
      "\n",
      "Reading Line:704Content：\"Aaron_Heilman\",\"NYM\",\"Relief_Pitcher\",77,220,28.3,\"Pitcher\"\n",
      "\n",
      "Reading Line:706Content：\"Scott_Schoeneweis\",\"NYM\",\"Relief_Pitcher\",72,195,33.41,\"Pitcher\"\n",
      "\n",
      "Reading Line:708Content：\"Billy_Wagner\",\"NYM\",\"Relief_Pitcher\",71,195,35.6,\"Pitcher\"\n",
      "\n",
      "Reading Line:710Content：\"Brad_Ausmus\",\"HOU\",\"Catcher\",71,190,37.88,\"Catcher\"\n",
      "\n",
      "Reading Line:712Content：\"Hector_Gimenez\",\"HOU\",\"Catcher\",70,180,24.42,\"Catcher\"\n",
      "\n",
      "Reading Line:714Content：\"Mike_Lamb\",\"HOU\",\"First_Baseman\",73,190,31.56,\"Infielder\"\n",
      "\n",
      "Reading Line:716Content：\"Craig_Biggio\",\"HOU\",\"Second_Baseman\",71,185,41.21,\"Infielder\"\n",
      "\n",
      "Reading Line:718Content：\"Chris_Burke\",\"HOU\",\"Second_Baseman\",71,180,26.97,\"Infielder\"\n",
      "\n",
      "Reading Line:720Content：\"Adam_Everett\",\"HOU\",\"Shortstop\",72,170,30.06,\"Infielder\"\n",
      "\n",
      "Reading Line:722Content：\"Carlos_Lee\",\"HOU\",\"Outfielder\",74,240,30.69,\"Outfielder\"\n",
      "\n",
      "Reading Line:724Content：\"Orlando_Palmeiro\",\"HOU\",\"Outfielder\",71,180,38.11,\"Outfielder\"\n",
      "\n",
      "Reading Line:726Content：\"Charlton_Jimerson\",\"HOU\",\"Outfielder\",75,210,27.44,\"Outfielder\"\n",
      "\n",
      "Reading Line:728Content：\"Wandy_Rodriguez\",\"HOU\",\"Starting_Pitcher\",71,160,28.11,\"Pitcher\"\n",
      "\n",
      "Reading Line:730Content：\"Matt_Albers\",\"HOU\",\"Starting_Pitcher\",72,205,24.11,\"Pitcher\"\n",
      "\n",
      "Reading Line:732Content：\"Roy_Oswalt\",\"HOU\",\"Starting_Pitcher\",72,185,29.5,\"Pitcher\"\n",
      "\n",
      "Reading Line:734Content：\"Miguel_Asencio\",\"HOU\",\"Relief_Pitcher\",74,190,26.42,\"Pitcher\"\n",
      "\n",
      "Reading Line:736Content：\"Trever_Miller\",\"HOU\",\"Relief_Pitcher\",75,200,33.75,\"Pitcher\"\n",
      "\n",
      "Reading Line:738Content：\"Dan_Wheeler\",\"HOU\",\"Relief_Pitcher\",75,222,29.22,\"Pitcher\"\n",
      "\n",
      "Reading Line:740Content：\"Lincoln_Holdzkom\",\"HOU\",\"Relief_Pitcher\",76,240,24.94,\"Pitcher\"\n",
      "\n",
      "Reading Line:742Content：\"Chad_Qualls\",\"HOU\",\"Relief_Pitcher\",77,220,28.54,\"Pitcher\"\n",
      "\n",
      "Reading Line:744Content：\"Mike_Lieberthal\",\"LA\",\"Catcher\",72,190,35.12,\"Catcher\"\n",
      "\n",
      "Reading Line:746Content：\"Olmedo_Saenz\",\"LA\",\"First_Baseman\",71,221,36.39,\"Infielder\"\n",
      "\n",
      "Reading Line:748Content：\"Nomar_Garciaparra\",\"LA\",\"First_Baseman\",72,190,33.6,\"Infielder\"\n",
      "\n",
      "Reading Line:750Content：\"Ramon_Martinez\",\"LA\",\"Second_Baseman\",73,190,34.39,\"Infielder\"\n",
      "\n",
      "Reading Line:752Content：\"Rafael_Furcal\",\"LA\",\"Shortstop\",70,165,29.35,\"Infielder\"\n",
      "\n",
      "Reading Line:754Content：\"Andy_LaRoche\",\"LA\",\"Third_Baseman\",71,185,23.46,\"Infielder\"\n",
      "\n",
      "Reading Line:756Content：\"Andre_Ethier\",\"LA\",\"Outfielder\",73,208,24.89,\"Outfielder\"\n",
      "\n",
      "Reading Line:758Content：\"Jason_Repko\",\"LA\",\"Outfielder\",71,175,26.17,\"Outfielder\"\n",
      "\n",
      "Reading Line:760Content：\"Luis_Gonzalez\",\"LA\",\"Outfielder\",74,200,39.49,\"Outfielder\"\n",
      "\n",
      "Reading Line:762Content：\"Randy_Wolf\",\"LA\",\"Starting_Pitcher\",72,200,30.52,\"Pitcher\"\n",
      "\n",
      "Reading Line:764Content：\"Derek_Lowe\",\"LA\",\"Starting_Pitcher\",78,210,33.75,\"Pitcher\"\n",
      "\n",
      "Reading Line:766Content：\"Chad_Billingsley\",\"LA\",\"Starting_Pitcher\",72,244,22.59,\"Pitcher\"\n",
      "\n",
      "Reading Line:768Content：\"Jonathan_Broxton\",\"LA\",\"Relief_Pitcher\",76,240,22.7,\"Pitcher\"\n",
      "\n",
      "Reading Line:770Content：\"Eric_Stults\",\"LA\",\"Relief_Pitcher\",72,215,27.23,\"Pitcher\"\n",
      "\n",
      "Reading Line:772Content：\"Tim_Hamulack\",\"LA\",\"Relief_Pitcher\",76,210,30.29,\"Pitcher\"\n",
      "\n",
      "Reading Line:774Content：\"Brett_Tomko\",\"LA\",\"Relief_Pitcher\",76,215,33.9,\"Pitcher\"\n",
      "\n",
      "Reading Line:776Content：\"Elmer_Dessens\",\"LA\",\"Relief_Pitcher\",70,198,36.13,\"Pitcher\"\n",
      "\n",
      "Reading Line:778Content：\"Rod_Barajas\",\"PHI\",\"Catcher\",74,220,31.49,\"Catcher\"\n",
      "\n",
      "Reading Line:780Content：\"Chris_Coste\",\"PHI\",\"Catcher\",73,200,34.07,\"Catcher\"\n",
      "\n",
      "Reading Line:782Content：\"Wes_Helms\",\"PHI\",\"First_Baseman\",76,231,30.8,\"Infielder\"\n",
      "\n",
      "Reading Line:784Content：\"Danny_Sandoval\",\"PHI\",\"Second_Baseman\",71,192,27.9,\"Infielder\"\n",
      "\n",
      "Reading Line:786Content：\"Abraham_Nu?ez\",\"PHI\",\"Third_Baseman\",71,190,30.96,\"Infielder\"\n",
      "\n",
      "Reading Line:788Content：\"Chris_Roberson\",\"PHI\",\"Outfielder\",74,180,27.52,\"Outfielder\"\n",
      "\n",
      "Reading Line:790Content：\"Shane_Victorino\",\"PHI\",\"Outfielder\",69,160,26.25,\"Outfielder\"\n",
      "\n",
      "Reading Line:792Content：\"Pat_Burrell\",\"PHI\",\"Outfielder\",76,223,30.39,\"Outfielder\"\n",
      "\n",
      "Reading Line:794Content：\"Alfredo_Simon\",\"PHI\",\"Starting_Pitcher\",76,170,25.81,\"Pitcher\"\n",
      "\n",
      "Reading Line:796Content：\"Freddy_Garcia\",\"PHI\",\"Starting_Pitcher\",76,240,31.72,\"Pitcher\"\n",
      "\n",
      "Reading Line:798Content：\"Jon_Lieber\",\"PHI\",\"Starting_Pitcher\",74,230,36.91,\"Pitcher\"\n",
      "\n",
      "Reading Line:800Content：\"Adam_Eaton\",\"PHI\",\"Starting_Pitcher\",74,196,29.27,\"Pitcher\"\n",
      "\n",
      "Reading Line:802Content：\"Clay_Condrey\",\"PHI\",\"Relief_Pitcher\",75,195,31.28,\"Pitcher\"\n",
      "\n",
      "Reading Line:804Content：\"Antonio_Alfonseca\",\"PHI\",\"Relief_Pitcher\",77,250,34.87,\"Pitcher\"\n",
      "\n",
      "Reading Line:806Content：\"Brian_Sanches\",\"PHI\",\"Relief_Pitcher\",72,190,28.56,\"Pitcher\"\n",
      "\n",
      "Reading Line:808Content：\"Anderson_Garcia\",\"PHI\",\"Relief_Pitcher\",74,170,25.94,\"Pitcher\"\n",
      "\n",
      "Reading Line:810Content：\"Fabio_Castro\",\"PHI\",\"Relief_Pitcher\",68,150,22.11,\"Pitcher\"\n",
      "\n",
      "Reading Line:812Content：\"Damian_Miller\",\"MLW\",\"Catcher\",75,220,37.38,\"Catcher\"\n",
      "\n",
      "Reading Line:814Content：\"Mike_Rivera\",\"MLW\",\"Catcher\",72,210,30.48,\"Catcher\"\n",
      "\n",
      "Reading Line:816Content：\"Prince_Fielder\",\"MLW\",\"First_Baseman\",72,260,22.81,\"Infielder\"\n",
      "\n",
      "Reading Line:818Content：\"Tony_Graffanino\",\"MLW\",\"Second_Baseman\",73,190,34.73,\"Infielder\"\n",
      "\n",
      "Reading Line:820Content：\"J.J._Hardy\",\"MLW\",\"Shortstop\",74,180,24.53,\"Infielder\"\n",
      "\n",
      "Reading Line:822Content：\"Vinny_Rottino\",\"MLW\",\"Third_Baseman\",72,195,26.9,\"Infielder\"\n",
      "\n",
      "Reading Line:824Content：\"Kevin_Mench\",\"MLW\",\"Outfielder\",72,225,29.14,\"Outfielder\"\n",
      "\n",
      "Reading Line:826Content：\"Brady_Clark\",\"MLW\",\"Outfielder\",74,202,33.87,\"Outfielder\"\n",
      "\n",
      "Reading Line:828Content：\"Corey_Hart\",\"MLW\",\"Outfielder\",78,200,24.94,\"Outfielder\"\n",
      "\n",
      "Reading Line:830Content：\"Laynce_Nix\",\"MLW\",\"Outfielder\",72,200,26.33,\"Outfielder\"\n",
      "\n",
      "Reading Line:832Content：\"Claudio_Vargas\",\"MLW\",\"Starting_Pitcher\",75,228,28.7,\"Pitcher\"\n",
      "\n",
      "Reading Line:834Content：\"Ben_Hendrickson\",\"MLW\",\"Starting_Pitcher\",76,190,26.07,\"Pitcher\"\n",
      "\n",
      "Reading Line:836Content：\"Carlos_Villanueva\",\"MLW\",\"Starting_Pitcher\",74,190,23.26,\"Pitcher\"\n",
      "\n",
      "Reading Line:838Content：\"Jeff_Suppan\",\"MLW\",\"Starting_Pitcher\",74,220,32.16,\"Pitcher\"\n",
      "\n",
      "Reading Line:840Content：\"Francisco_Cordero\",\"MLW\",\"Relief_Pitcher\",74,235,31.81,\"Pitcher\"\n",
      "\n",
      "Reading Line:842Content：\"Matt_Wise\",\"MLW\",\"Relief_Pitcher\",76,200,31.28,\"Pitcher\"\n",
      "\n",
      "Reading Line:844Content：\"Dennis_Sarfate\",\"MLW\",\"Relief_Pitcher\",76,210,25.89,\"Pitcher\"\n",
      "\n",
      "Reading Line:846Content：\"Greg_Aquino\",\"MLW\",\"Relief_Pitcher\",73,188,29.13,\"Pitcher\"\n",
      "\n",
      "Reading Line:848Content：\"Rob_Bowen\",\"SD\",\"Catcher\",75,216,26.01,\"Catcher\"\n",
      "\n",
      "Reading Line:850Content：\"Marcus_Giles\",\"SD\",\"Second_Baseman\",68,180,28.79,\"Infielder\"\n",
      "\n",
      "Reading Line:852Content：\"Geoff_Blum\",\"SD\",\"Shortstop\",75,200,33.85,\"Infielder\"\n",
      "\n",
      "Reading Line:854Content：\"Paul_McAnulty\",\"SD\",\"Outfielder\",70,220,26.01,\"Outfielder\"\n",
      "\n",
      "Reading Line:856Content：\"Jack_Cust\",\"SD\",\"Outfielder\",73,231,28.12,\"Outfielder\"\n",
      "\n",
      "Reading Line:858Content：\"Russell_Branyan\",\"SD\",\"Outfielder\",75,195,31.2,\"Outfielder\"\n",
      "\n",
      "Reading Line:860Content：\"Brian_Giles\",\"SD\",\"Outfielder\",70,205,36.11,\"Outfielder\"\n",
      "\n",
      "Reading Line:862Content：\"Clay_Hensley\",\"SD\",\"Starting_Pitcher\",71,190,27.5,\"Pitcher\"\n",
      "\n",
      "Reading Line:864Content：\"Greg_Maddux\",\"SD\",\"Starting_Pitcher\",72,185,40.88,\"Pitcher\"\n",
      "\n",
      "Reading Line:866Content：\"Scott_Cassidy\",\"SD\",\"Relief_Pitcher\",74,170,31.41,\"Pitcher\"\n",
      "\n",
      "Reading Line:868Content：\"Scott_Linebrink\",\"SD\",\"Relief_Pitcher\",75,208,30.57,\"Pitcher\"\n",
      "\n",
      "Reading Line:870Content：\"Trevor_Hoffman\",\"SD\",\"Relief_Pitcher\",72,215,39.38,\"Pitcher\"\n",
      "\n",
      "Reading Line:872Content：\"Royce_Ring\",\"SD\",\"Relief_Pitcher\",72,220,26.19,\"Pitcher\"\n",
      "\n",
      "Reading Line:874Content：\"Andrew_Brown\",\"SD\",\"Relief_Pitcher\",78,230,26.03,\"Pitcher\"\n",
      "\n",
      "Reading Line:876Content：\"Justin_Hampson\",\"SD\",\"Relief_Pitcher\",73,200,26.77,\"Pitcher\"\n",
      "\n",
      "Reading Line:878Content：\"Ryan_Ketchner\",\"SD\",\"Relief_Pitcher\",73,190,24.87,\"Pitcher\"\n",
      "\n",
      "Reading Line:880Content：\"Jesus_Flores\",\"WAS\",\"Catcher\",73,180,22.34,\"Catcher\"\n",
      "\n",
      "Reading Line:882Content：\"Nick_Johnson\",\"WAS\",\"First_Baseman\",75,224,28.45,\"Infielder\"\n",
      "\n",
      "Reading Line:884Content：\"Josh_Wilson\",\"WAS\",\"Shortstop\",73,178,25.93,\"Infielder\"\n",
      "\n",
      "Reading Line:886Content：\"Felipe_Lopez\",\"WAS\",\"Shortstop\",73,185,26.8,\"Infielder\"\n",
      "\n",
      "Reading Line:888Content：\"Nook_Logan\",\"WAS\",\"Outfielder\",74,180,27.26,\"Outfielder\"\n",
      "\n",
      "Reading Line:890Content：\"Kory_Casto\",\"WAS\",\"Outfielder\",73,200,25.23,\"Outfielder\"\n",
      "\n",
      "Reading Line:892Content：\"Alex_Escobar\",\"WAS\",\"Outfielder\",73,190,28.48,\"Outfielder\"\n",
      "\n",
      "Reading Line:894Content：\"Chris_Snelling\",\"WAS\",\"Outfielder\",70,165,25.24,\"Outfielder\"\n",
      "\n",
      "Reading Line:896Content：\"Tim_Redding\",\"WAS\",\"Starting_Pitcher\",72,200,29.05,\"Pitcher\"\n",
      "\n",
      "Reading Line:898Content：\"Shawn_Hill\",\"WAS\",\"Starting_Pitcher\",74,185,25.84,\"Pitcher\"\n",
      "\n",
      "Reading Line:900Content：\"Mike_O'Connor\",\"WAS\",\"Starting_Pitcher\",75,170,26.54,\"Pitcher\"\n",
      "\n",
      "Reading Line:902Content：\"Chris_Schroder\",\"WAS\",\"Relief_Pitcher\",75,210,28.53,\"Pitcher\"\n",
      "\n",
      "Reading Line:904Content：\"Beltran_Perez\",\"WAS\",\"Relief_Pitcher\",74,180,25.35,\"Pitcher\"\n",
      "\n",
      "Reading Line:906Content：\"Jason_Bergmann\",\"WAS\",\"Relief_Pitcher\",76,190,25.43,\"Pitcher\"\n",
      "\n",
      "Reading Line:908Content：\"Chris_Booker\",\"WAS\",\"Relief_Pitcher\",75,230,30.22,\"Pitcher\"\n",
      "\n",
      "Reading Line:910Content：\"Jon_Rauch\",\"WAS\",\"Relief_Pitcher\",83,260,28.42,\"Pitcher\"\n",
      "\n",
      "Reading Line:912Content：\"Luis_Ayala\",\"WAS\",\"Relief_Pitcher\",74,186,29.13,\"Pitcher\"\n",
      "\n",
      "Reading Line:914Content：\"Chad_Cordero\",\"WAS\",\"Relief_Pitcher\",72,198,24.95,\"Pitcher\"\n",
      "\n",
      "Reading Line:916Content：\"Ronny_Paulino\",\"PIT\",\"Catcher\",75,215,25.86,\"Catcher\"\n",
      "\n",
      "Reading Line:918Content：\"Ryan_Doumit\",\"PIT\",\"First_Baseman\",72,200,25.91,\"Infielder\"\n",
      "\n",
      "Reading Line:920Content：\"Jose_Castillo\",\"PIT\",\"Second_Baseman\",73,200,25.95,\"Infielder\"\n",
      "\n",
      "Reading Line:922Content：\"Freddy_Sanchez\",\"PIT\",\"Third_Baseman\",70,192,29.19,\"Infielder\"\n",
      "\n",
      "Reading Line:924Content：\"Jose_Bautista\",\"PIT\",\"Outfielder\",72,192,26.36,\"Outfielder\"\n",
      "\n",
      "Reading Line:926Content：\"Jody_Gerut\",\"PIT\",\"Outfielder\",72,190,29.45,\"Outfielder\"\n",
      "\n",
      "Reading Line:928Content：\"Chris_Duffy\",\"PIT\",\"Outfielder\",70,170,26.86,\"Outfielder\"\n",
      "\n",
      "Reading Line:930Content：\"Shane_Youman\",\"PIT\",\"Starting_Pitcher\",76,219,27.39,\"Pitcher\"\n",
      "\n",
      "Reading Line:932Content：\"Josh_Shortslef\",\"PIT\",\"Starting_Pitcher\",76,220,25.08,\"Pitcher\"\n",
      "\n",
      "Reading Line:934Content：\"Paul_Maholm\",\"PIT\",\"Starting_Pitcher\",74,225,24.68,\"Pitcher\"\n",
      "\n",
      "Reading Line:936Content：\"Shawn_Chacon\",\"PIT\",\"Starting_Pitcher\",75,212,29.19,\"Pitcher\"\n",
      "\n",
      "Reading Line:938Content：\"Ian_Snell\",\"PIT\",\"Starting_Pitcher\",71,170,25.33,\"Pitcher\"\n",
      "\n",
      "Reading Line:940Content：\"John_Grabow\",\"PIT\",\"Relief_Pitcher\",74,210,28.32,\"Pitcher\"\n",
      "\n",
      "Reading Line:942Content：\"Salomon_Torres\",\"PIT\",\"Relief_Pitcher\",71,210,34.97,\"Pitcher\"\n",
      "\n",
      "Reading Line:944Content：\"Matt_Capps\",\"PIT\",\"Relief_Pitcher\",75,238,23.49,\"Pitcher\"\n",
      "\n",
      "Reading Line:946Content：\"Bryan_Bullington\",\"PIT\",\"Relief_Pitcher\",76,222,26.41,\"Pitcher\"\n",
      "\n",
      "Reading Line:948Content：\"Brian_Rogers\",\"PIT\",\"Relief_Pitcher\",76,190,24.62,\"Pitcher\"\n",
      "\n",
      "Reading Line:950Content：\"Bengie_Molina\",\"SF\",\"Catcher\",71,220,32.61,\"Catcher\"\n",
      "\n",
      "Reading Line:952Content：\"Lance_Niekro\",\"SF\",\"First_Baseman\",75,210,28.08,\"Infielder\"\n",
      "\n",
      "Reading Line:954Content：\"Ray_Durham\",\"SF\",\"Second_Baseman\",68,196,35.25,\"Infielder\"\n",
      "\n",
      "Reading Line:956Content：\"Omar_Vizquel\",\"SF\",\"Shortstop\",69,175,39.85,\"Infielder\"\n",
      "\n",
      "Reading Line:958Content：\"Pedro_Feliz\",\"SF\",\"Third_Baseman\",73,205,31.84,\"Infielder\"\n",
      "\n",
      "Reading Line:960Content：\"Dave_Roberts\",\"SF\",\"Outfielder\",70,180,34.75,\"Outfielder\"\n",
      "\n",
      "Reading Line:962Content：\"Randy_Winn\",\"SF\",\"Outfielder\",74,197,32.73,\"Outfielder\"\n",
      "\n",
      "Reading Line:964Content：\"Barry_Bonds\",\"SF\",\"Outfielder\",74,228,42.6,\"Outfielder\"\n",
      "\n",
      "Reading Line:966Content：\"Kelyn_Acosta\",\"SF\",\"Starting_Pitcher\",73,204,21.85,\"Pitcher\"\n",
      "\n",
      "Reading Line:968Content：\"Matt_Cain\",\"SF\",\"Starting_Pitcher\",75,216,22.41,\"Pitcher\"\n",
      "\n",
      "Reading Line:970Content：\"Russ_Ortiz\",\"SF\",\"Starting_Pitcher\",73,208,32.74,\"Pitcher\"\n",
      "\n",
      "Reading Line:972Content：\"Barry_Zito\",\"SF\",\"Starting_Pitcher\",76,215,28.8,\"Pitcher\"\n",
      "\n",
      "Reading Line:974Content：\"Kevin_Correia\",\"SF\",\"Relief_Pitcher\",75,200,26.52,\"Pitcher\"\n",
      "\n",
      "Reading Line:976Content：\"Armando_Benitez\",\"SF\",\"Relief_Pitcher\",76,229,34.32,\"Pitcher\"\n",
      "\n",
      "Reading Line:978Content：\"Jack_Taschner\",\"SF\",\"Relief_Pitcher\",75,207,28.86,\"Pitcher\"\n",
      "\n",
      "Reading Line:980Content：\"Merkin_Valdez\",\"SF\",\"Relief_Pitcher\",77,208,25.3,\"Pitcher\"\n",
      "\n",
      "Reading Line:982Content：\"Billy_Sadler\",\"SF\",\"Relief_Pitcher\",72,190,25.44,\"Pitcher\"\n",
      "\n",
      "Reading Line:984Content：\"Gary_Bennett\",\"STL\",\"Catcher\",72,208,34.87,\"Catcher\"\n",
      "\n",
      "Reading Line:986Content：\"John_Nelson\",\"STL\",\"First_Baseman\",73,190,27.99,\"Infielder\"\n",
      "\n",
      "Reading Line:988Content：\"Adam_Kennedy\",\"STL\",\"Second_Baseman\",73,185,31.14,\"Infielder\"\n",
      "\n",
      "Reading Line:990Content：\"David_Eckstein\",\"STL\",\"Shortstop\",67,165,32.11,\"Infielder\"\n",
      "\n",
      "Reading Line:992Content：\"Scott_Spiezio\",\"STL\",\"Third_Baseman\",74,220,34.44,\"Infielder\"\n",
      "\n",
      "Reading Line:994Content：\"So_Taguchi\",\"STL\",\"Outfielder\",70,163,37.66,\"Outfielder\"\n",
      "\n",
      "Reading Line:996Content：\"Skip_Schumaker\",\"STL\",\"Outfielder\",70,175,27.07,\"Outfielder\"\n",
      "\n",
      "Reading Line:998Content：\"Chris_Duncan\",\"STL\",\"Outfielder\",77,210,25.82,\"Outfielder\"\n",
      "\n",
      "Reading Line:1000Content：\"Mark_Mulder\",\"STL\",\"Starting_Pitcher\",78,208,29.57,\"Pitcher\"\n",
      "\n",
      "Reading Line:1002Content：\"Ryan_Franklin\",\"STL\",\"Starting_Pitcher\",75,180,33.99,\"Pitcher\"\n",
      "\n",
      "Reading Line:1004Content：\"Chris_Carpenter\",\"STL\",\"Starting_Pitcher\",78,230,31.84,\"Pitcher\"\n",
      "\n",
      "Reading Line:1006Content：\"Jason_Isringhausen\",\"STL\",\"Relief_Pitcher\",75,230,34.48,\"Pitcher\"\n",
      "\n",
      "Reading Line:1008Content：\"Braden_Looper\",\"STL\",\"Relief_Pitcher\",75,220,32.34,\"Pitcher\"\n",
      "\n",
      "Reading Line:1010Content：\"Josh_Hancock\",\"STL\",\"Relief_Pitcher\",75,205,28.89,\"Pitcher\"\n",
      "\n",
      "Reading Line:1012Content：\"Tyler_Johnson\",\"STL\",\"Relief_Pitcher\",74,180,25.73,\"Pitcher\"\n",
      "\n",
      "Reading Line:1014Content：\"Randy_Keisler\",\"STL\",\"Relief_Pitcher\",75,190,31.01,\"Pitcher\"\n",
      "\n"
     ]
    }
   ],
   "source": [
    "n=2\n",
    "with open(r'C:\\Users\\Qing\\Downloads\\baseball.csv','r') as open_file:\n",
    "    for j,observation in enumerate(open_file):\n",
    "        if j % n==0:\n",
    "            print('Reading Line:' +str(j)+'Content：' + observation)"
   ]
  },
  {
   "cell_type": "code",
   "execution_count": 30,
   "metadata": {},
   "outputs": [
    {
     "name": "stdout",
     "output_type": "stream",
     "text": [
      "Reading Line:1content:\"Adam_Donachie\",\"BAL\",\"Catcher\",74,180,22.99,\"Catcher\"\n",
      "\n",
      "Reading Line:2content:\"Paul_Bako\",\"BAL\",\"Catcher\",74,215,34.69,\"Catcher\"\n",
      "\n",
      "Reading Line:6content:\"Brian_Roberts\",\"BAL\",\"Second_Baseman\",69,176,29.39,\"Infielder\"\n",
      "\n",
      "Reading Line:8content:\"Melvin_Mora\",\"BAL\",\"Third_Baseman\",71,200,35.07,\"Infielder\"\n",
      "\n",
      "Reading Line:9content:\"Aubrey_Huff\",\"BAL\",\"Third_Baseman\",76,231,30.19,\"Infielder\"\n",
      "\n",
      "Reading Line:16content:\"Jay_Payton\",\"BAL\",\"Outfielder\",70,185,34.27,\"Outfielder\"\n",
      "\n",
      "Reading Line:17content:\"Erik_Bedard\",\"BAL\",\"Starting_Pitcher\",73,189,27.99,\"Pitcher\"\n",
      "\n",
      "Reading Line:18content:\"Hayden_Penn\",\"BAL\",\"Starting_Pitcher\",75,185,22.38,\"Pitcher\"\n",
      "\n",
      "Reading Line:25content:\"John_Parrish\",\"BAL\",\"Relief_Pitcher\",71,192,29.26,\"Pitcher\"\n",
      "\n",
      "Reading Line:29content:\"Brian_Burres\",\"BAL\",\"Relief_Pitcher\",73,182,25.89,\"Pitcher\"\n",
      "\n",
      "Reading Line:30content:\"Kurt_Birkins\",\"BAL\",\"Relief_Pitcher\",74,188,26.55,\"Pitcher\"\n",
      "\n",
      "Reading Line:36content:\"Toby_Hall\",\"CWS\",\"Catcher\",75,240,31.36,\"Catcher\"\n",
      "\n",
      "Reading Line:55content:\"Jon_Garland\",\"CWS\",\"Starting_Pitcher\",78,210,27.43,\"Pitcher\"\n",
      "\n",
      "Reading Line:56content:\"Javier_Vazquez\",\"CWS\",\"Starting_Pitcher\",74,205,30.6,\"Pitcher\"\n",
      "\n",
      "Reading Line:59content:\"David_Aardsma\",\"CWS\",\"Relief_Pitcher\",77,200,25.17,\"Pitcher\"\n",
      "\n",
      "Reading Line:61content:\"Matt_Thornton\",\"CWS\",\"Relief_Pitcher\",78,228,30.46,\"Pitcher\"\n",
      "\n",
      "Reading Line:66content:\"Jose_Molina\",\"ANA\",\"Catcher\",74,220,31.74,\"Catcher\"\n",
      "\n",
      "Reading Line:71content:\"Shea_Hillenbrand\",\"ANA\",\"First_Baseman\",73,211,31.59,\"Infielder\"\n",
      "\n",
      "Reading Line:72content:\"Robb_Quinlan\",\"ANA\",\"First_Baseman\",73,200,29.95,\"Infielder\"\n",
      "\n",
      "Reading Line:75content:\"Erick_Aybar\",\"ANA\",\"Shortstop\",70,170,23.13,\"Infielder\"\n",
      "\n",
      "Reading Line:76content:\"Dallas_McPherson\",\"ANA\",\"Third_Baseman\",76,230,26.6,\"Infielder\"\n",
      "\n",
      "Reading Line:80content:\"Terry_Evans\",\"ANA\",\"Outfielder\",75,200,25.11,\"Outfielder\"\n",
      "\n",
      "Reading Line:81content:\"Gary_Matthews_Jr.\",\"ANA\",\"Outfielder\",75,225,32.51,\"Outfielder\"\n",
      "\n",
      "Reading Line:104content:\"Kevin_Youkilis\",\"BOS\",\"First_Baseman\",73,220,27.96,\"Infielder\"\n",
      "\n",
      "Reading Line:106content:\"Alex_Cora\",\"BOS\",\"Shortstop\",72,180,31.37,\"Infielder\"\n",
      "\n",
      "Reading Line:108content:\"Mike_Lowell\",\"BOS\",\"Third_Baseman\",75,210,33.01,\"Infielder\"\n",
      "\n",
      "Reading Line:114content:\"Eric_Hinske\",\"BOS\",\"Outfielder\",74,235,29.57,\"Outfielder\"\n",
      "\n",
      "Reading Line:126content:\"Hideki_Okajima\",\"BOS\",\"Relief_Pitcher\",73,194,31.18,\"Pitcher\"\n",
      "\n",
      "Reading Line:128content:\"Manny_Delcarmen\",\"BOS\",\"Relief_Pitcher\",74,190,25.03,\"Pitcher\"\n",
      "\n",
      "Reading Line:129content:\"Brendan_Donnelly\",\"BOS\",\"Relief_Pitcher\",75,240,35.66,\"Pitcher\"\n",
      "\n",
      "Reading Line:131content:\"J.C._Romero\",\"BOS\",\"Relief_Pitcher\",71,198,30.74,\"Pitcher\"\n",
      "\n",
      "Reading Line:136content:\"Victor_Martinez\",\"CLE\",\"Catcher\",74,190,28.19,\"Catcher\"\n",
      "\n",
      "Reading Line:140content:\"Josh_Barfield\",\"CLE\",\"Second_Baseman\",72,185,24.2,\"Infielder\"\n",
      "\n",
      "Reading Line:148content:\"Jason_Michaels\",\"CLE\",\"Outfielder\",72,204,30.82,\"Outfielder\"\n",
      "\n",
      "Reading Line:152content:\"Paul_Byrd\",\"CLE\",\"Starting_Pitcher\",73,190,36.24,\"Pitcher\"\n",
      "\n",
      "Reading Line:154content:\"Jake_Westbrook\",\"CLE\",\"Starting_Pitcher\",75,185,29.42,\"Pitcher\"\n",
      "\n",
      "Reading Line:155content:\"C.C._Sabathia\",\"CLE\",\"Starting_Pitcher\",79,290,26.61,\"Pitcher\"\n",
      "\n",
      "Reading Line:156content:\"Jeremy_Sowers\",\"CLE\",\"Starting_Pitcher\",73,175,23.79,\"Pitcher\"\n",
      "\n",
      "Reading Line:161content:\"Tom_Mastny\",\"CLE\",\"Relief_Pitcher\",78,220,26.07,\"Pitcher\"\n",
      "\n",
      "Reading Line:163content:\"Fausto_Carmona\",\"CLE\",\"Relief_Pitcher\",76,220,23.23,\"Pitcher\"\n",
      "\n",
      "Reading Line:164content:\"Aaron_Fultz\",\"CLE\",\"Relief_Pitcher\",72,205,33.49,\"Pitcher\"\n",
      "\n",
      "Reading Line:166content:\"Roberto_Hernandez\",\"CLE\",\"Relief_Pitcher\",76,250,42.3,\"Pitcher\"\n",
      "\n",
      "Reading Line:177content:\"Marco_Scutaro\",\"OAK\",\"Shortstop\",70,170,31.33,\"Infielder\"\n",
      "\n",
      "Reading Line:179content:\"Mark_Kiger\",\"OAK\",\"Shortstop\",71,180,26.75,\"Infielder\"\n",
      "\n",
      "Reading Line:181content:\"Eric_Chavez\",\"OAK\",\"Third_Baseman\",73,206,29.23,\"Infielder\"\n",
      "\n",
      "Reading Line:188content:\"David_Shafer\",\"OAK\",\"Starting_Pitcher\",74,180,24.98,\"Pitcher\"\n",
      "\n",
      "Reading Line:190content:\"Brad_Halsey\",\"OAK\",\"Starting_Pitcher\",73,180,26.04,\"Pitcher\"\n",
      "\n",
      "Reading Line:191content:\"Dan_Haren\",\"OAK\",\"Starting_Pitcher\",77,220,26.45,\"Pitcher\"\n",
      "\n",
      "Reading Line:192content:\"Rich_Harden\",\"OAK\",\"Starting_Pitcher\",73,180,25.25,\"Pitcher\"\n",
      "\n",
      "Reading Line:193content:\"Joe_Kennedy\",\"OAK\",\"Starting_Pitcher\",76,237,27.77,\"Pitcher\"\n",
      "\n",
      "Reading Line:196content:\"Jay_Witasick\",\"OAK\",\"Relief_Pitcher\",76,235,34.51,\"Pitcher\"\n",
      "\n",
      "Reading Line:197content:\"Justin_Duchscherer\",\"OAK\",\"Relief_Pitcher\",75,190,29.28,\"Pitcher\"\n",
      "\n",
      "Reading Line:198content:\"Kiko_Calero\",\"OAK\",\"Relief_Pitcher\",73,180,32.14,\"Pitcher\"\n",
      "\n",
      "Reading Line:205content:\"Marcus_McBeth\",\"OAK\",\"Relief_Pitcher\",73,185,26.52,\"Pitcher\"\n",
      "\n",
      "Reading Line:213content:\"Derek_Jeter\",\"NYY\",\"Shortstop\",75,195,32.68,\"Infielder\"\n",
      "\n",
      "Reading Line:215content:\"Johnny_Damon\",\"NYY\",\"Outfielder\",74,190,33.32,\"Outfielder\"\n",
      "\n",
      "Reading Line:218content:\"Melky_Cabrera\",\"NYY\",\"Outfielder\",71,170,22.55,\"Outfielder\"\n",
      "\n",
      "Reading Line:220content:\"Mike_Mussina\",\"NYY\",\"Starting_Pitcher\",74,185,38.23,\"Pitcher\"\n",
      "\n",
      "Reading Line:230content:\"Chris_Britton\",\"NYY\",\"Relief_Pitcher\",75,278,24.21,\"Pitcher\"\n",
      "\n",
      "Reading Line:232content:\"Jose_Veras\",\"NYY\",\"Relief_Pitcher\",77,230,26.36,\"Pitcher\"\n",
      "\n",
      "Reading Line:233content:\"Kyle_Farnsworth\",\"NYY\",\"Relief_Pitcher\",76,240,30.88,\"Pitcher\"\n",
      "\n",
      "Reading Line:234content:\"Luis_Vizcaino\",\"NYY\",\"Relief_Pitcher\",71,184,32.57,\"Pitcher\"\n",
      "\n",
      "Reading Line:235content:\"Mike_Myers\",\"NYY\",\"Relief_Pitcher\",75,219,37.68,\"Pitcher\"\n",
      "\n",
      "Reading Line:245content:\"Ramon_Santiago\",\"DET\",\"Shortstop\",71,167,27.5,\"Infielder\"\n",
      "\n",
      "Reading Line:247content:\"Brandon_Inge\",\"DET\",\"Third_Baseman\",71,195,29.78,\"Infielder\"\n",
      "\n",
      "Reading Line:250content:\"Curtis_Granderson\",\"DET\",\"Outfielder\",73,185,25.96,\"Outfielder\"\n",
      "\n",
      "Reading Line:252content:\"Marcus_Thames\",\"DET\",\"Outfielder\",74,205,29.98,\"Outfielder\"\n",
      "\n",
      "Reading Line:266content:\"Joel_Zumaya\",\"DET\",\"Relief_Pitcher\",75,210,22.31,\"Pitcher\"\n",
      "\n",
      "Reading Line:269content:\"Yorman_Bazardo\",\"DET\",\"Relief_Pitcher\",74,202,22.64,\"Pitcher\"\n",
      "\n",
      "Reading Line:272content:\"Edward_Campusano\",\"DET\",\"Relief_Pitcher\",76,170,24.63,\"Pitcher\"\n",
      "\n",
      "Reading Line:279content:\"Yuniesky_Betancourt\",\"SEA\",\"Shortstop\",70,190,25.08,\"Infielder\"\n",
      "\n",
      "Reading Line:284content:\"Jeremy_Reed\",\"SEA\",\"Outfielder\",72,185,25.71,\"Outfielder\"\n",
      "\n",
      "Reading Line:286content:\"Adam_Jones\",\"SEA\",\"Outfielder\",74,200,21.58,\"Outfielder\"\n",
      "\n",
      "Reading Line:287content:\"Ichiro_Suzuki\",\"SEA\",\"Outfielder\",69,172,33.36,\"Outfielder\"\n",
      "\n",
      "Reading Line:292content:\"Horacio_Ramirez\",\"SEA\",\"Starting_Pitcher\",73,219,27.27,\"Pitcher\"\n",
      "\n",
      "Reading Line:293content:\"Cha_Baek\",\"SEA\",\"Starting_Pitcher\",76,190,26.75,\"Pitcher\"\n",
      "\n",
      "Reading Line:294content:\"Miguel_Batista\",\"SEA\",\"Starting_Pitcher\",73,197,36.03,\"Pitcher\"\n",
      "\n",
      "Reading Line:297content:\"George_Sherrill\",\"SEA\",\"Relief_Pitcher\",72,210,29.86,\"Pitcher\"\n",
      "\n",
      "Reading Line:299content:\"J.J._Putz\",\"SEA\",\"Relief_Pitcher\",77,220,30.02,\"Pitcher\"\n",
      "\n",
      "Reading Line:310content:\"Ty_Wigginton\",\"TB\",\"First_Baseman\",72,200,29.39,\"Infielder\"\n",
      "\n",
      "Reading Line:313content:\"Ben_Zobrist\",\"TB\",\"Shortstop\",75,200,25.76,\"Infielder\"\n",
      "\n",
      "Reading Line:314content:\"B.J._Upton\",\"TB\",\"Third_Baseman\",75,180,22.52,\"Infielder\"\n",
      "\n",
      "Reading Line:324content:\"J.P._Howell\",\"TB\",\"Starting_Pitcher\",72,175,23.85,\"Pitcher\"\n",
      "\n",
      "Reading Line:328content:\"Brian_Stokes\",\"TB\",\"Starting_Pitcher\",73,200,27.48,\"Pitcher\"\n",
      "\n",
      "Reading Line:331content:\"Ruddy_Lugo\",\"TB\",\"Relief_Pitcher\",70,205,26.77,\"Pitcher\"\n",
      "\n",
      "Reading Line:332content:\"Jae-Kuk_Ryu\",\"TB\",\"Relief_Pitcher\",75,220,23.75,\"Pitcher\"\n",
      "\n",
      "Reading Line:340content:\"John_Buck\",\"KC\",\"Catcher\",75,210,26.65,\"Catcher\"\n",
      "\n",
      "Reading Line:343content:\"Esteban_German\",\"KC\",\"Second_Baseman\",69,165,29.09,\"Infielder\"\n",
      "\n",
      "Reading Line:345content:\"Angel_Sanchez\",\"KC\",\"Second_Baseman\",74,185,23.44,\"Infielder\"\n",
      "\n",
      "Reading Line:346content:\"Angel_Berroa\",\"KC\",\"Shortstop\",72,175,29.09,\"Infielder\"\n",
      "\n",
      "Reading Line:347content:\"Andres_Blanco\",\"KC\",\"Shortstop\",70,155,22.89,\"Infielder\"\n",
      "\n",
      "Reading Line:348content:\"Mark_Teahen\",\"KC\",\"Third_Baseman\",75,210,25.48,\"Infielder\"\n",
      "\n",
      "Reading Line:350content:\"David_DeJesus\",\"KC\",\"Outfielder\",72,175,27.2,\"Outfielder\"\n",
      "\n",
      "Reading Line:351content:\"Shane_Costa\",\"KC\",\"Outfielder\",72,220,25.22,\"Outfielder\"\n",
      "\n",
      "Reading Line:357content:\"Scott_Elarton\",\"KC\",\"Starting_Pitcher\",80,240,31.02,\"Pitcher\"\n",
      "\n",
      "Reading Line:358content:\"Odalis_Perez\",\"KC\",\"Starting_Pitcher\",72,150,29.73,\"Pitcher\"\n",
      "\n",
      "Reading Line:359content:\"Gil_Meche\",\"KC\",\"Starting_Pitcher\",75,200,28.48,\"Pitcher\"\n",
      "\n",
      "Reading Line:362content:\"Zack_Greinke\",\"KC\",\"Starting_Pitcher\",74,200,23.36,\"Pitcher\"\n",
      "\n",
      "Reading Line:373content:\"Gerald_Laird\",\"TEX\",\"Catcher\",74,220,27.3,\"Catcher\"\n",
      "\n",
      "Reading Line:379content:\"Joaquin_Arias\",\"TEX\",\"Shortstop\",73,160,22.44,\"Infielder\"\n",
      "\n",
      "Reading Line:380content:\"Michael_Young\",\"TEX\",\"Shortstop\",73,190,30.36,\"Infielder\"\n",
      "\n",
      "Reading Line:381content:\"Hank_Blalock\",\"TEX\",\"Third_Baseman\",73,200,26.27,\"Infielder\"\n",
      "\n",
      "Reading Line:382content:\"Marlon_Byrd\",\"TEX\",\"Outfielder\",72,229,29.5,\"Outfielder\"\n",
      "\n",
      "Reading Line:385content:\"Kenny_Lofton\",\"TEX\",\"Outfielder\",72,180,39.75,\"Outfielder\"\n",
      "\n",
      "Reading Line:388content:\"Robinson_Tejeda\",\"TEX\",\"Starting_Pitcher\",75,188,24.94,\"Pitcher\"\n",
      "\n",
      "Reading Line:391content:\"A.J._Murray\",\"TEX\",\"Starting_Pitcher\",75,200,24.96,\"Pitcher\"\n",
      "\n",
      "Reading Line:392content:\"Brandon_McCarthy\",\"TEX\",\"Starting_Pitcher\",79,190,23.65,\"Pitcher\"\n",
      "\n",
      "Reading Line:393content:\"Vicente_Padilla\",\"TEX\",\"Starting_Pitcher\",74,219,29.42,\"Pitcher\"\n",
      "\n",
      "Reading Line:395content:\"John_Koronka\",\"TEX\",\"Starting_Pitcher\",73,180,26.66,\"Pitcher\"\n",
      "\n",
      "Reading Line:402content:\"Rick_Bauer\",\"TEX\",\"Relief_Pitcher\",78,223,30.14,\"Pitcher\"\n",
      "\n",
      "Reading Line:404content:\"Wes_Littleton\",\"TEX\",\"Relief_Pitcher\",74,210,24.49,\"Pitcher\"\n",
      "\n",
      "Reading Line:410content:\"Russ_Adams\",\"TOR\",\"Second_Baseman\",73,180,26.5,\"Infielder\"\n",
      "\n",
      "Reading Line:415content:\"Troy_Glaus\",\"TOR\",\"Third_Baseman\",77,240,30.57,\"Infielder\"\n",
      "\n",
      "Reading Line:416content:\"John_Hattig\",\"TOR\",\"Third_Baseman\",74,210,27.01,\"Infielder\"\n",
      "\n",
      "Reading Line:420content:\"Shaun_Marcum\",\"TOR\",\"Starting_Pitcher\",72,180,25.21,\"Pitcher\"\n",
      "\n",
      "Reading Line:424content:\"Roy_Halladay\",\"TOR\",\"Starting_Pitcher\",78,230,29.8,\"Pitcher\"\n",
      "\n",
      "Reading Line:425content:\"John_Thomson\",\"TOR\",\"Starting_Pitcher\",75,220,33.41,\"Pitcher\"\n",
      "\n",
      "Reading Line:427content:\"B.J._Ryan\",\"TOR\",\"Relief_Pitcher\",78,249,31.17,\"Pitcher\"\n",
      "\n",
      "Reading Line:428content:\"Scott_Downs\",\"TOR\",\"Relief_Pitcher\",74,190,30.95,\"Pitcher\"\n",
      "\n",
      "Reading Line:429content:\"Brian_Tallet\",\"TOR\",\"Relief_Pitcher\",79,208,29.44,\"Pitcher\"\n",
      "\n",
      "Reading Line:432content:\"Jean_Machi\",\"TOR\",\"Relief_Pitcher\",72,160,24.08,\"Pitcher\"\n",
      "\n",
      "Reading Line:433content:\"Brandon_League\",\"TOR\",\"Relief_Pitcher\",75,192,23.96,\"Pitcher\"\n",
      "\n",
      "Reading Line:442content:\"Justin_Morneau\",\"MIN\",\"First_Baseman\",76,228,25.79,\"Infielder\"\n",
      "\n",
      "Reading Line:443content:\"Luis_Castillo\",\"MIN\",\"Second_Baseman\",71,190,31.47,\"Infielder\"\n",
      "\n",
      "Reading Line:444content:\"Alexi_Casilla\",\"MIN\",\"Second_Baseman\",69,160,22.61,\"Infielder\"\n",
      "\n",
      "Reading Line:447content:\"Luis_Rodriguez\",\"MIN\",\"Third_Baseman\",69,180,26.67,\"Infielder\"\n",
      "\n",
      "Reading Line:452content:\"Torii_Hunter\",\"MIN\",\"Outfielder\",74,211,31.62,\"Outfielder\"\n",
      "\n",
      "Reading Line:455content:\"Ramon_Ortiz\",\"MIN\",\"Starting_Pitcher\",72,175,33.77,\"Pitcher\"\n",
      "\n",
      "Reading Line:456content:\"Johan_Santana\",\"MIN\",\"Starting_Pitcher\",72,206,27.97,\"Pitcher\"\n",
      "\n",
      "Reading Line:457content:\"Carlos_Silva\",\"MIN\",\"Starting_Pitcher\",76,240,27.85,\"Pitcher\"\n",
      "\n",
      "Reading Line:458content:\"Matt_Garza\",\"MIN\",\"Starting_Pitcher\",76,185,23.26,\"Pitcher\"\n",
      "\n",
      "Reading Line:463content:\"Glen_Perkins\",\"MIN\",\"Relief_Pitcher\",71,200,24,\"Pitcher\"\n",
      "\n",
      "Reading Line:464content:\"Julio_DePaula\",\"MIN\",\"Relief_Pitcher\",72,170,24.16,\"Pitcher\"\n",
      "\n",
      "Reading Line:466content:\"Jesse_Crain\",\"MIN\",\"Relief_Pitcher\",73,205,25.65,\"Pitcher\"\n",
      "\n",
      "Reading Line:469content:\"Dennys_Reyes\",\"MIN\",\"Relief_Pitcher\",75,245,29.86,\"Pitcher\"\n",
      "\n",
      "Reading Line:470content:\"Brayan_Pe?a\",\"ATL\",\"Catcher\",71,220,25.14,\"Catcher\"\n",
      "\n",
      "Reading Line:472content:\"Craig_Wilson\",\"ATL\",\"First_Baseman\",74,220,30.25,\"Infielder\"\n",
      "\n",
      "Reading Line:474content:\"Pete_Orr\",\"ATL\",\"Second_Baseman\",73,175,27.73,\"Infielder\"\n",
      "\n",
      "Reading Line:477content:\"Edgar_Renteria\",\"ATL\",\"Shortstop\",73,200,31.56,\"Infielder\"\n",
      "\n",
      "Reading Line:478content:\"Chipper_Jones\",\"ATL\",\"Third_Baseman\",76,210,34.85,\"Infielder\"\n",
      "\n",
      "Reading Line:488content:\"Jonathan_Johnson\",\"ATL\",\"Starting_Pitcher\",72,180,32.62,\"Pitcher\"\n",
      "\n",
      "Reading Line:491content:\"Kyle_Davies\",\"ATL\",\"Starting_Pitcher\",74,205,23.47,\"Pitcher\"\n",
      "\n",
      "Reading Line:492content:\"Chuck_James\",\"ATL\",\"Starting_Pitcher\",72,170,25.31,\"Pitcher\"\n",
      "\n",
      "Reading Line:497content:\"Mike_Gonzalez\",\"ATL\",\"Relief_Pitcher\",74,205,28.77,\"Pitcher\"\n",
      "\n",
      "Reading Line:500content:\"Manny_Acosta\",\"ATL\",\"Relief_Pitcher\",76,170,25.83,\"Pitcher\"\n",
      "\n",
      "Reading Line:501content:\"Bob_Wickman\",\"ATL\",\"Relief_Pitcher\",73,240,38.06,\"Pitcher\"\n",
      "\n",
      "Reading Line:505content:\"Chad_Paronto\",\"ATL\",\"Relief_Pitcher\",77,250,31.59,\"Pitcher\"\n",
      "\n",
      "Reading Line:506content:\"Tyler_Yates\",\"ATL\",\"Relief_Pitcher\",76,220,29.56,\"Pitcher\"\n",
      "\n",
      "Reading Line:509content:\"Geovany_Soto\",\"CHC\",\"Catcher\",73,195,24.11,\"Catcher\"\n",
      "\n",
      "Reading Line:515content:\"Cesar_Izturis\",\"CHC\",\"Third_Baseman\",69,175,27.05,\"Infielder\"\n",
      "\n",
      "Reading Line:517content:\"Jacque_Jones\",\"CHC\",\"Outfielder\",70,195,31.85,\"Outfielder\"\n",
      "\n",
      "Reading Line:518content:\"Daryle_Ward\",\"CHC\",\"Outfielder\",74,230,31.68,\"Outfielder\"\n",
      "\n",
      "Reading Line:523content:\"Angel_Pagan\",\"CHC\",\"Outfielder\",73,180,25.66,\"Outfielder\"\n",
      "\n",
      "Reading Line:527content:\"Juan_Mateo\",\"CHC\",\"Starting_Pitcher\",74,180,24.2,\"Pitcher\"\n",
      "\n",
      "Reading Line:528content:\"Rich_Hill\",\"CHC\",\"Starting_Pitcher\",77,190,26.97,\"Pitcher\"\n",
      "\n",
      "Reading Line:536content:\"Will_Ohman\",\"CHC\",\"Relief_Pitcher\",74,205,29.55,\"Pitcher\"\n",
      "\n",
      "Reading Line:537content:\"Scott_Eyre\",\"CHC\",\"Relief_Pitcher\",73,210,34.75,\"Pitcher\"\n",
      "\n",
      "Reading Line:542content:\"Roberto_Novoa\",\"CHC\",\"Relief_Pitcher\",77,200,27.54,\"Pitcher\"\n",
      "\n",
      "Reading Line:545content:\"Conor_Jackson\",\"ARZ\",\"First_Baseman\",74,225,24.82,\"Infielder\"\n",
      "\n",
      "Reading Line:547content:\"Tony_Clark\",\"ARZ\",\"First_Baseman\",79,245,34.71,\"Infielder\"\n",
      "\n",
      "Reading Line:553content:\"Scott_Hairston\",\"ARZ\",\"Outfielder\",72,188,26.77,\"Outfielder\"\n",
      "\n",
      "Reading Line:559content:\"Randy_Johnson\",\"ARZ\",\"Starting_Pitcher\",82,231,43.47,\"Pitcher\"\n",
      "\n",
      "Reading Line:563content:\"Dana_Eveland\",\"ARZ\",\"Starting_Pitcher\",73,250,23.34,\"Pitcher\"\n",
      "\n",
      "Reading Line:564content:\"Brandon_Medders\",\"ARZ\",\"Relief_Pitcher\",73,191,27.09,\"Pitcher\"\n",
      "\n",
      "Reading Line:570content:\"Brandon_Lyon\",\"ARZ\",\"Relief_Pitcher\",73,180,27.56,\"Pitcher\"\n",
      "\n",
      "Reading Line:572content:\"Matt_Treanor\",\"FLA\",\"Catcher\",74,220,30.99,\"Catcher\"\n",
      "\n",
      "Reading Line:580content:\"Alfredo_Amezaga\",\"FLA\",\"Outfielder\",70,165,29.12,\"Outfielder\"\n",
      "\n",
      "Reading Line:581content:\"Cody_Ross\",\"FLA\",\"Outfielder\",71,180,26.18,\"Outfielder\"\n",
      "\n",
      "Reading Line:585content:\"Reggi_Abercrombie\",\"FLA\",\"Outfielder\",75,224,26.63,\"Outfielder\"\n",
      "\n",
      "Reading Line:586content:\"Ricky_Nolasco\",\"FLA\",\"Starting_Pitcher\",74,220,24.21,\"Pitcher\"\n",
      "\n",
      "Reading Line:595content:\"Renyel_Pinto\",\"FLA\",\"Relief_Pitcher\",76,195,24.65,\"Pitcher\"\n",
      "\n",
      "Reading Line:597content:\"Yusmeiro_Petit\",\"FLA\",\"Relief_Pitcher\",72,230,22.27,\"Pitcher\"\n",
      "\n",
      "Reading Line:604content:\"Chad_Moeller\",\"CIN\",\"Catcher\",75,210,32.03,\"Catcher\"\n",
      "\n",
      "Reading Line:606content:\"Joey_Votto\",\"CIN\",\"First_Baseman\",75,200,23.47,\"Infielder\"\n",
      "\n",
      "Reading Line:626content:\"Elizardo_Ramirez\",\"CIN\",\"Starting_Pitcher\",72,180,24.09,\"Pitcher\"\n",
      "\n",
      "Reading Line:638content:\"Yorvit_Torrealba\",\"COL\",\"Catcher\",71,190,28.62,\"Catcher\"\n",
      "\n",
      "Reading Line:639content:\"Chris_Iannetta\",\"COL\",\"Catcher\",71,195,23.9,\"Catcher\"\n",
      "\n",
      "Reading Line:649content:\"Jeff_Salazar\",\"COL\",\"Outfielder\",72,180,26.26,\"Outfielder\"\n",
      "\n",
      "Reading Line:655content:\"Rodrigo_Lopez\",\"COL\",\"Starting_Pitcher\",73,190,31.21,\"Pitcher\"\n",
      "\n",
      "Reading Line:656content:\"Brian_Lawrence\",\"COL\",\"Starting_Pitcher\",72,197,30.8,\"Pitcher\"\n",
      "\n",
      "Reading Line:659content:\"Denny_Bautista\",\"COL\",\"Starting_Pitcher\",77,170,26.52,\"Pitcher\"\n",
      "\n",
      "Reading Line:661content:\"Jason_Hirsh\",\"COL\",\"Starting_Pitcher\",80,250,25.02,\"Pitcher\"\n",
      "\n",
      "Reading Line:666content:\"Manny_Corpas\",\"COL\",\"Relief_Pitcher\",75,170,24.24,\"Pitcher\"\n",
      "\n",
      "Reading Line:676content:\"Jose_Valentin\",\"NYM\",\"Second_Baseman\",70,195,37.38,\"Infielder\"\n",
      "\n",
      "Reading Line:687content:\"Lastings_Milledge\",\"NYM\",\"Outfielder\",72,187,21.9,\"Outfielder\"\n",
      "\n",
      "Reading Line:691content:\"Tom_Glavine\",\"NYM\",\"Starting_Pitcher\",72,185,40.93,\"Pitcher\"\n",
      "\n",
      "Reading Line:695content:\"Oliver_Perez\",\"NYM\",\"Starting_Pitcher\",72,190,25.54,\"Pitcher\"\n",
      "\n",
      "Reading Line:697content:\"Marcos_Carvajal\",\"NYM\",\"Relief_Pitcher\",76,175,22.53,\"Pitcher\"\n",
      "\n",
      "Reading Line:700content:\"Jon_Adkins\",\"NYM\",\"Relief_Pitcher\",71,210,29.5,\"Pitcher\"\n",
      "\n",
      "Reading Line:701content:\"Juan_Padilla\",\"NYM\",\"Relief_Pitcher\",72,200,30.03,\"Pitcher\"\n",
      "\n",
      "Reading Line:705content:\"Jorge_Sosa\",\"NYM\",\"Relief_Pitcher\",74,170,29.84,\"Pitcher\"\n",
      "\n",
      "Reading Line:709content:\"Philip_Humber\",\"NYM\",\"Relief_Pitcher\",76,210,24.19,\"Pitcher\"\n",
      "\n",
      "Reading Line:710content:\"Brad_Ausmus\",\"HOU\",\"Catcher\",71,190,37.88,\"Catcher\"\n",
      "\n",
      "Reading Line:716content:\"Craig_Biggio\",\"HOU\",\"Second_Baseman\",71,185,41.21,\"Infielder\"\n",
      "\n",
      "Reading Line:718content:\"Chris_Burke\",\"HOU\",\"Second_Baseman\",71,180,26.97,\"Infielder\"\n",
      "\n",
      "Reading Line:720content:\"Adam_Everett\",\"HOU\",\"Shortstop\",72,170,30.06,\"Infielder\"\n",
      "\n",
      "Reading Line:727content:\"Fernando_Nieve\",\"HOU\",\"Starting_Pitcher\",72,195,24.63,\"Pitcher\"\n",
      "\n",
      "Reading Line:728content:\"Wandy_Rodriguez\",\"HOU\",\"Starting_Pitcher\",71,160,28.11,\"Pitcher\"\n",
      "\n",
      "Reading Line:729content:\"Brandon_Backe\",\"HOU\",\"Starting_Pitcher\",72,180,28.9,\"Pitcher\"\n",
      "\n",
      "Reading Line:734content:\"Miguel_Asencio\",\"HOU\",\"Relief_Pitcher\",74,190,26.42,\"Pitcher\"\n",
      "\n",
      "Reading Line:739content:\"Paul_Estrada\",\"HOU\",\"Relief_Pitcher\",73,215,24.47,\"Pitcher\"\n",
      "\n",
      "Reading Line:748content:\"Nomar_Garciaparra\",\"LA\",\"First_Baseman\",72,190,33.6,\"Infielder\"\n",
      "\n",
      "Reading Line:751content:\"Marlon_Anderson\",\"LA\",\"Second_Baseman\",71,200,33.15,\"Infielder\"\n",
      "\n",
      "Reading Line:758content:\"Jason_Repko\",\"LA\",\"Outfielder\",71,175,26.17,\"Outfielder\"\n",
      "\n",
      "Reading Line:770content:\"Eric_Stults\",\"LA\",\"Relief_Pitcher\",72,215,27.23,\"Pitcher\"\n",
      "\n",
      "Reading Line:772content:\"Tim_Hamulack\",\"LA\",\"Relief_Pitcher\",76,210,30.29,\"Pitcher\"\n",
      "\n",
      "Reading Line:779content:\"Carlos_Ruiz\",\"PHI\",\"Catcher\",72,170,28.1,\"Catcher\"\n",
      "\n",
      "Reading Line:780content:\"Chris_Coste\",\"PHI\",\"Catcher\",73,200,34.07,\"Catcher\"\n",
      "\n",
      "Reading Line:782content:\"Wes_Helms\",\"PHI\",\"First_Baseman\",76,231,30.8,\"Infielder\"\n",
      "\n",
      "Reading Line:788content:\"Chris_Roberson\",\"PHI\",\"Outfielder\",74,180,27.52,\"Outfielder\"\n",
      "\n",
      "Reading Line:791content:\"Aaron_Rowand\",\"PHI\",\"Outfielder\",72,205,29.5,\"Outfielder\"\n",
      "\n",
      "Reading Line:796content:\"Freddy_Garcia\",\"PHI\",\"Starting_Pitcher\",76,240,31.72,\"Pitcher\"\n",
      "\n",
      "Reading Line:797content:\"Jamie_Moyer\",\"PHI\",\"Starting_Pitcher\",72,175,44.28,\"Pitcher\"\n",
      "\n",
      "Reading Line:802content:\"Clay_Condrey\",\"PHI\",\"Relief_Pitcher\",75,195,31.28,\"Pitcher\"\n",
      "\n",
      "Reading Line:814content:\"Mike_Rivera\",\"MLW\",\"Catcher\",72,210,30.48,\"Catcher\"\n",
      "\n",
      "Reading Line:815content:\"J.D._Closser\",\"MLW\",\"Catcher\",70,176,27.12,\"Catcher\"\n",
      "\n",
      "Reading Line:816content:\"Prince_Fielder\",\"MLW\",\"First_Baseman\",72,260,22.81,\"Infielder\"\n",
      "\n",
      "Reading Line:820content:\"J.J._Hardy\",\"MLW\",\"Shortstop\",74,180,24.53,\"Infielder\"\n",
      "\n",
      "Reading Line:822content:\"Vinny_Rottino\",\"MLW\",\"Third_Baseman\",72,195,26.9,\"Infielder\"\n",
      "\n",
      "Reading Line:824content:\"Kevin_Mench\",\"MLW\",\"Outfielder\",72,225,29.14,\"Outfielder\"\n",
      "\n",
      "Reading Line:830content:\"Laynce_Nix\",\"MLW\",\"Outfielder\",72,200,26.33,\"Outfielder\"\n",
      "\n",
      "Reading Line:840content:\"Francisco_Cordero\",\"MLW\",\"Relief_Pitcher\",74,235,31.81,\"Pitcher\"\n",
      "\n",
      "Reading Line:846content:\"Greg_Aquino\",\"MLW\",\"Relief_Pitcher\",73,188,29.13,\"Pitcher\"\n",
      "\n",
      "Reading Line:847content:\"Josh_Bard\",\"SD\",\"Catcher\",75,215,28.92,\"Catcher\"\n",
      "\n",
      "Reading Line:851content:\"Todd_Walker\",\"SD\",\"Second_Baseman\",72,185,33.77,\"Infielder\"\n",
      "\n",
      "Reading Line:852content:\"Geoff_Blum\",\"SD\",\"Shortstop\",75,200,33.85,\"Infielder\"\n",
      "\n",
      "Reading Line:857content:\"Jose_Cruz_Jr.\",\"SD\",\"Outfielder\",72,210,32.87,\"Outfielder\"\n",
      "\n",
      "Reading Line:866content:\"Scott_Cassidy\",\"SD\",\"Relief_Pitcher\",74,170,31.41,\"Pitcher\"\n",
      "\n",
      "Reading Line:881content:\"Larry_Broadway\",\"WAS\",\"First_Baseman\",76,230,26.2,\"Infielder\"\n",
      "\n",
      "Reading Line:890content:\"Kory_Casto\",\"WAS\",\"Outfielder\",73,200,25.23,\"Outfielder\"\n",
      "\n",
      "Reading Line:894content:\"Chris_Snelling\",\"WAS\",\"Outfielder\",70,165,25.24,\"Outfielder\"\n",
      "\n",
      "Reading Line:896content:\"Tim_Redding\",\"WAS\",\"Starting_Pitcher\",72,200,29.05,\"Pitcher\"\n",
      "\n",
      "Reading Line:898content:\"Shawn_Hill\",\"WAS\",\"Starting_Pitcher\",74,185,25.84,\"Pitcher\"\n",
      "\n",
      "Reading Line:903content:\"Brett_Campbell\",\"WAS\",\"Relief_Pitcher\",72,170,25.37,\"Pitcher\"\n",
      "\n",
      "Reading Line:904content:\"Beltran_Perez\",\"WAS\",\"Relief_Pitcher\",74,180,25.35,\"Pitcher\"\n",
      "\n",
      "Reading Line:909content:\"Micah_Bowie\",\"WAS\",\"Relief_Pitcher\",76,203,32.3,\"Pitcher\"\n",
      "\n",
      "Reading Line:911content:\"Jerome_Williams\",\"WAS\",\"Relief_Pitcher\",75,246,25.24,\"Pitcher\"\n",
      "\n",
      "Reading Line:914content:\"Chad_Cordero\",\"WAS\",\"Relief_Pitcher\",72,198,24.95,\"Pitcher\"\n",
      "\n",
      "Reading Line:916content:\"Ronny_Paulino\",\"PIT\",\"Catcher\",75,215,25.86,\"Catcher\"\n",
      "\n",
      "Reading Line:918content:\"Ryan_Doumit\",\"PIT\",\"First_Baseman\",72,200,25.91,\"Infielder\"\n",
      "\n",
      "Reading Line:919content:\"Brad_Eldred\",\"PIT\",\"First_Baseman\",77,245,26.63,\"Infielder\"\n",
      "\n",
      "Reading Line:922content:\"Freddy_Sanchez\",\"PIT\",\"Third_Baseman\",70,192,29.19,\"Infielder\"\n",
      "\n",
      "Reading Line:924content:\"Jose_Bautista\",\"PIT\",\"Outfielder\",72,192,26.36,\"Outfielder\"\n",
      "\n",
      "Reading Line:926content:\"Jody_Gerut\",\"PIT\",\"Outfielder\",72,190,29.45,\"Outfielder\"\n",
      "\n",
      "Reading Line:928content:\"Chris_Duffy\",\"PIT\",\"Outfielder\",70,170,26.86,\"Outfielder\"\n",
      "\n",
      "Reading Line:933content:\"Zach_Duke\",\"PIT\",\"Starting_Pitcher\",74,207,23.87,\"Pitcher\"\n",
      "\n",
      "Reading Line:939content:\"Sean_Burnett\",\"PIT\",\"Starting_Pitcher\",71,190,24.45,\"Pitcher\"\n",
      "\n",
      "Reading Line:944content:\"Matt_Capps\",\"PIT\",\"Relief_Pitcher\",75,238,23.49,\"Pitcher\"\n",
      "\n",
      "Reading Line:946content:\"Bryan_Bullington\",\"PIT\",\"Relief_Pitcher\",76,222,26.41,\"Pitcher\"\n",
      "\n",
      "Reading Line:954content:\"Ray_Durham\",\"SF\",\"Second_Baseman\",68,196,35.25,\"Infielder\"\n",
      "\n",
      "Reading Line:955content:\"Kevin_Frandsen\",\"SF\",\"Second_Baseman\",72,175,24.77,\"Infielder\"\n",
      "\n",
      "Reading Line:956content:\"Omar_Vizquel\",\"SF\",\"Shortstop\",69,175,39.85,\"Infielder\"\n",
      "\n",
      "Reading Line:959content:\"Todd_Linden\",\"SF\",\"Outfielder\",75,210,26.67,\"Outfielder\"\n",
      "\n",
      "Reading Line:961content:\"Jason_Ellison\",\"SF\",\"Outfielder\",70,180,28.91,\"Outfielder\"\n",
      "\n",
      "Reading Line:966content:\"Kelyn_Acosta\",\"SF\",\"Starting_Pitcher\",73,204,21.85,\"Pitcher\"\n",
      "\n",
      "Reading Line:975content:\"Steve_Kline\",\"SF\",\"Relief_Pitcher\",73,215,34.52,\"Pitcher\"\n",
      "\n",
      "Reading Line:982content:\"Billy_Sadler\",\"SF\",\"Relief_Pitcher\",72,190,25.44,\"Pitcher\"\n",
      "\n",
      "Reading Line:986content:\"John_Nelson\",\"STL\",\"First_Baseman\",73,190,27.99,\"Infielder\"\n",
      "\n",
      "Reading Line:988content:\"Adam_Kennedy\",\"STL\",\"Second_Baseman\",73,185,31.14,\"Infielder\"\n",
      "\n",
      "Reading Line:995content:\"Juan_Encarnacion\",\"STL\",\"Outfielder\",75,215,30.98,\"Outfielder\"\n",
      "\n",
      "Reading Line:1001content:\"Anthony_Reyes\",\"STL\",\"Starting_Pitcher\",74,215,25.37,\"Pitcher\"\n",
      "\n",
      "Reading Line:1002content:\"Ryan_Franklin\",\"STL\",\"Starting_Pitcher\",75,180,33.99,\"Pitcher\"\n",
      "\n",
      "Reading Line:1004content:\"Chris_Carpenter\",\"STL\",\"Starting_Pitcher\",78,230,31.84,\"Pitcher\"\n",
      "\n",
      "Reading Line:1015content:\"Josh_Kinney\",\"STL\",\"Relief_Pitcher\",73,195,27.92,\"Pitcher\"\n",
      "\n"
     ]
    }
   ],
   "source": [
    "from random import random\n",
    "sample_size=0.25\n",
    "with open(r'C:\\Users\\Qing\\Downloads\\baseball.csv','r') as open_file:\n",
    "    for j,observation in enumerate(open_file):\n",
    "        if random()<=sample_size:\n",
    "            print('Reading Line:' + str(j)+ 'content:'+ observation)"
   ]
  },
  {
   "cell_type": "code",
   "execution_count": 31,
   "metadata": {},
   "outputs": [
    {
     "data": {
      "text/plain": [
       "datetime.datetime(2018, 8, 23, 17, 27, 47, 245275)"
      ]
     },
     "execution_count": 31,
     "metadata": {},
     "output_type": "execute_result"
    }
   ],
   "source": [
    "import datetime\n",
    "datetime.datetime.now()"
   ]
  },
  {
   "cell_type": "code",
   "execution_count": 32,
   "metadata": {},
   "outputs": [
    {
     "data": {
      "text/plain": [
       "'2018-08-23'"
      ]
     },
     "execution_count": 32,
     "metadata": {},
     "output_type": "execute_result"
    }
   ],
   "source": [
    "str(datetime.datetime.now().date())"
   ]
  },
  {
   "cell_type": "code",
   "execution_count": 37,
   "metadata": {},
   "outputs": [
    {
     "name": "stdout",
     "output_type": "stream",
     "text": [
      "Hello There!\n"
     ]
    }
   ],
   "source": [
    "def SayHello():\n",
    "    print('Hello There!')\n",
    "SayHello()"
   ]
  },
  {
   "cell_type": "code",
   "execution_count": 38,
   "metadata": {},
   "outputs": [
    {
     "data": {
      "text/plain": [
       "5"
      ]
     },
     "execution_count": 38,
     "metadata": {},
     "output_type": "execute_result"
    }
   ],
   "source": [
    "def DoSum(Value1, Value2):\n",
    "    return Value1 + Value2\n",
    "DoSum(2,3)"
   ]
  },
  {
   "cell_type": "code",
   "execution_count": 48,
   "metadata": {},
   "outputs": [
    {
     "name": "stdout",
     "output_type": "stream",
     "text": [
      "2 + 3 = 5\n"
     ]
    }
   ],
   "source": [
    "def DisplaySum(Value1, Value2):\n",
    "    print(str(Value1) + ' + ' + str(Value2) + ' = ' + \n",
    "    str((Value1 + Value2)))\n",
    "DisplaySum(2,3)"
   ]
  },
  {
   "cell_type": "code",
   "execution_count": 49,
   "metadata": {},
   "outputs": [
    {
     "name": "stdout",
     "output_type": "stream",
     "text": [
      "No Value Supplied\n"
     ]
    }
   ],
   "source": [
    "def SayHello(Greeting = 'No Value Supplied'):\n",
    "    print(Greeting)\n",
    "SayHello()\n"
   ]
  },
  {
   "cell_type": "code",
   "execution_count": 50,
   "metadata": {},
   "outputs": [
    {
     "name": "stdout",
     "output_type": "stream",
     "text": [
      "Howdy!\n"
     ]
    }
   ],
   "source": [
    "def SayHello(Greeting = 'No Value Supplied'):\n",
    "    print(Greeting)\n",
    "SayHello(\"Howdy!\")"
   ]
  },
  {
   "cell_type": "code",
   "execution_count": 53,
   "metadata": {},
   "outputs": [
    {
     "name": "stdout",
     "output_type": "stream",
     "text": [
      "You passed 3 arguments. ('Hello', 1, True)\n"
     ]
    }
   ],
   "source": [
    "def DisplayMulti(ArgCount = 0, *VarArgs):\n",
    "    print('You passed ' + str(ArgCount) + ' arguments.',\n",
    "        VarArgs)\n",
    "DisplayMulti(3,'Hello',1, True)"
   ]
  },
  {
   "cell_type": "code",
   "execution_count": 56,
   "metadata": {},
   "outputs": [
    {
     "name": "stdout",
     "output_type": "stream",
     "text": [
      "Value is something else.\n",
      "It equals 10\n"
     ]
    }
   ],
   "source": [
    "def TestValue(Value):\n",
    "    if Value == 5:\n",
    "        print('Values equals 5!')\n",
    "    elif Value ==6:\n",
    "        print('Values equals 6!')\n",
    "    else:\n",
    "        print('Value is something else.')\n",
    "        print('It equals ' + str(Value))\n",
    "TestValue(10)"
   ]
  },
  {
   "cell_type": "code",
   "execution_count": 57,
   "metadata": {},
   "outputs": [
    {
     "name": "stdout",
     "output_type": "stream",
     "text": [
      "Type a number between 1 and 10:2\n",
      "Type a number between 1 and 10:9\n",
      "Your secret number is: 18\n"
     ]
    }
   ],
   "source": [
    "def SecretNumber():\n",
    "    one=int(input('Type a number between 1 and 10:'))\n",
    "    Two=int(input('Type a number between 1 and 10:'))\n",
    "    if (one >= 1) and (one <=10):\n",
    "        if(Two>= 1) and (Two <=10):\n",
    "            print('Your secret number is: ' + str(one * Two))\n",
    "        else:\n",
    "             print('Incorrect second value!') \n",
    "    else:\n",
    "       print('Incorrect first value!')\n",
    "SecretNumber()"
   ]
  },
  {
   "cell_type": "code",
   "execution_count": 7,
   "metadata": {},
   "outputs": [
    {
     "name": "stdout",
     "output_type": "stream",
     "text": [
      "Good Argument: Hello\n",
      "Good Argument: Goodbye\n",
      "Good Argument: First\n",
      "Good Argument: Last\n"
     ]
    }
   ],
   "source": [
    "def DisplayMulti(*VarArgs):\n",
    "    for Arg in VarArgs:\n",
    "        if Arg.upper()=='CONT':\n",
    "            continue\n",
    "            print('Continue Argument: ' + Arg)\n",
    "        elif Arg.upper()=='BREAK':\n",
    "            break\n",
    "        print('Good Argument: ' + Arg)\n",
    "DisplayMulti('Hello','Goodbye','First','Last')"
   ]
  },
  {
   "cell_type": "code",
   "execution_count": 5,
   "metadata": {},
   "outputs": [
    {
     "name": "stdout",
     "output_type": "stream",
     "text": [
      "Good Argument: Hello\n",
      "Good Argument: Goodbye\n"
     ]
    }
   ],
   "source": [
    "DisplayMulti('Hello','Cont','Goodbye','Break','Last')"
   ]
  },
  {
   "cell_type": "code",
   "execution_count": 16,
   "metadata": {},
   "outputs": [
    {
     "name": "stdout",
     "output_type": "stream",
     "text": [
      "Type a number between 1 and 10:20\n",
      "Type a number between 1 and 10:30\n",
      "Incorrect first value!\n",
      "Try again!\n",
      "Type a number between 1 and 10:20\n",
      "Type a number between 1 and 10:10\n",
      "Incorrect first value!\n",
      "Try again!\n",
      "Type a number between 1 and 10:10\n",
      "Type a number between 1 and 10:3\n",
      "Your secret number is: 30\n"
     ]
    }
   ],
   "source": [
    "def SecretNumber():\n",
    "    GotIt = False\n",
    "    while GotIt == False:\n",
    "        one=int(input('Type a number between 1 and 10:'))\n",
    "        Two=int(input('Type a number between 1 and 10:'))\n",
    "        \n",
    "        if (one >= 1) and (one <=10):\n",
    "            if(Two>= 1) and (Two <=10):\n",
    "                print('Your secret number is: ' + str(one * Two))\n",
    "                GotIt = True\n",
    "                continue\n",
    "            else:\n",
    "                print('Incorrect second value!') \n",
    "        else:\n",
    "           print('Incorrect first value!')\n",
    "        print('Try again!')\n",
    "SecretNumber()"
   ]
  },
  {
   "cell_type": "code",
   "execution_count": 37,
   "metadata": {},
   "outputs": [
    {
     "name": "stdout",
     "output_type": "stream",
     "text": [
      "{'Green', 'Blue', 'Yellow', 'Red', 'Orange', 'Black'}\n",
      "{'Green', 'Black'}\n",
      "{'Red', 'Blue'}\n",
      "True\n",
      "False\n"
     ]
    }
   ],
   "source": [
    "SetA = set(['Red','Blue','Green','Black'])\n",
    "SetB = set(['Black','Green','Yellow','Orange'])\n",
    "SetX = SetA.union(SetB)\n",
    "SetY = SetA.intersection(SetB)\n",
    "SetZ = SetA.difference(SetB)\n",
    "c=SetA.issuperset(SetY)\n",
    "SetA.add('Purple')\n",
    "d=SetA.issubset(SetX)\n",
    "print(SetX)\n",
    "print(SetY)\n",
    "print(SetZ)\n",
    "print(c)\n",
    "print(d)"
   ]
  },
  {
   "cell_type": "code",
   "execution_count": 36,
   "metadata": {},
   "outputs": [
    {
     "name": "stdout",
     "output_type": "stream",
     "text": [
      "{'Jane', 'Sam', 'Zack', 'John', 'Janice', 'Susan', 'Jack'}\n"
     ]
    }
   ],
   "source": [
    "engineers = set(['John', 'Jane', 'Jack', 'Janice'])\n",
    "programmers = set(['Jack', 'Sam', 'Susan', 'Janice'])\n",
    "managers = set(['Jane', 'Jack', 'Susan', 'Zack'])\n",
    "employees = engineers | programmers | managers  \n",
    "print(employees)"
   ]
  },
  {
   "cell_type": "code",
   "execution_count": 44,
   "metadata": {},
   "outputs": [
    {
     "data": {
      "text/plain": [
       "[0, 1, 2, 3, 4, 5, 6, 7]"
      ]
     },
     "execution_count": 44,
     "metadata": {},
     "output_type": "execute_result"
    }
   ],
   "source": [
    "ListA=[0,1,2,3]\n",
    "ListB=[4,5,6,7]\n",
    "ListA.extend(ListB)\n",
    "ListA"
   ]
  },
  {
   "cell_type": "code",
   "execution_count": 45,
   "metadata": {},
   "outputs": [
    {
     "data": {
      "text/plain": [
       "[0, 1, 3, 4, 5, 6, 7, -5]"
      ]
     },
     "execution_count": 45,
     "metadata": {},
     "output_type": "execute_result"
    }
   ],
   "source": [
    "ListA.append(-5)\n",
    "ListA.remove(2)\n",
    "ListA"
   ]
  },
  {
   "cell_type": "code",
   "execution_count": 47,
   "metadata": {},
   "outputs": [
    {
     "name": "stdout",
     "output_type": "stream",
     "text": [
      "1\n",
      "2\n",
      "3\n",
      "\t 4\n",
      "\t 5\n",
      "\t 6\n",
      "\t\t 7\n",
      "\t\t 8\n",
      "\t\t 9\n"
     ]
    }
   ],
   "source": [
    "MyTuple=(1,2,3,(4,5,6,(7,8,9)))\n",
    "for Value1 in MyTuple:\n",
    "    if type(Value1) == int:\n",
    "        print (Value1)\n",
    "    else:\n",
    "        for Value2 in Value1:\n",
    "            if type(Value2)== int:\n",
    "                print (\"\\t\", Value2)\n",
    "            else:\n",
    "                for Value3 in Value2:\n",
    "                    print (\"\\t\\t\", Value3)"
   ]
  },
  {
   "cell_type": "code",
   "execution_count": 2,
   "metadata": {},
   "outputs": [
    {
     "name": "stdout",
     "output_type": "stream",
     "text": [
      "2\n",
      "3\n"
     ]
    }
   ],
   "source": [
    "ListA=['Orange','Yellow','Green','Brown']\n",
    "ListB=[1,2,3,4]\n",
    "for Value in ListB[1:3]:\n",
    "    print(Value)"
   ]
  },
  {
   "cell_type": "code",
   "execution_count": 4,
   "metadata": {},
   "outputs": [
    {
     "name": "stdout",
     "output_type": "stream",
     "text": [
      "Orange \t 1\n",
      "Yellow \t 2\n",
      "Green \t 3\n",
      "Brown \t 4\n"
     ]
    }
   ],
   "source": [
    "for Value1,Value2 in zip(ListA, ListB):\n",
    "    print (Value1, '\\t', Value2)"
   ]
  },
  {
   "cell_type": "code",
   "execution_count": 8,
   "metadata": {},
   "outputs": [
    {
     "data": {
      "text/plain": [
       "dict_keys(['Orange', 'Blue', 'Pink'])"
      ]
     },
     "execution_count": 8,
     "metadata": {},
     "output_type": "execute_result"
    }
   ],
   "source": [
    "MyDict={'Orange':1,'Blue':2,'Pink':3}\n",
    "MyDict.keys()"
   ]
  },
  {
   "cell_type": "code",
   "execution_count": 11,
   "metadata": {},
   "outputs": [
    {
     "data": {
      "text/plain": [
       "dict_values([1, 2, 3])"
      ]
     },
     "execution_count": 11,
     "metadata": {},
     "output_type": "execute_result"
    }
   ],
   "source": [
    "MyDict={'Orange':1,'Blue':2,'Pink':3}\n",
    "MyDict.values()"
   ]
  },
  {
   "cell_type": "code",
   "execution_count": null,
   "metadata": {},
   "outputs": [],
   "source": []
  },
  {
   "cell_type": "code",
   "execution_count": null,
   "metadata": {},
   "outputs": [],
   "source": []
  }
 ],
 "metadata": {
  "kernelspec": {
   "display_name": "Python 3",
   "language": "python",
   "name": "python3"
  },
  "language_info": {
   "codemirror_mode": {
    "name": "ipython",
    "version": 3
   },
   "file_extension": ".py",
   "mimetype": "text/x-python",
   "name": "python",
   "nbconvert_exporter": "python",
   "pygments_lexer": "ipython3",
   "version": "3.6.5"
  }
 },
 "nbformat": 4,
 "nbformat_minor": 2
}
